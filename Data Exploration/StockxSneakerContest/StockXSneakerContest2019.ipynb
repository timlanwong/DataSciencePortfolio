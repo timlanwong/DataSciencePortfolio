{
 "cells": [
  {
   "cell_type": "code",
   "execution_count": 40,
   "metadata": {},
   "outputs": [],
   "source": [
    "#Imports\n",
    "from datascience import *\n",
    "import pandas as pd\n",
    "import seaborn as sns\n",
    "import numpy as np\n",
    "import matplotlib.pyplot as plt\n",
    "import os\n",
    "%matplotlib inline"
   ]
  },
  {
   "cell_type": "markdown",
   "metadata": {},
   "source": [
    "https://stockx.com/news/the-2019-data-contest/\n",
    "\n",
    "The data in this sheet consist of a random sample of all U.S. Off-White x Nike and Yeezy 350 sales from between 9/1/2017 and 2/13/2019. \n",
    "\n",
    "To create this sample, StockX took a random, fixed percentage of their sales (X%) for each colorway, on each day, since September 2017. So, for each day the Off-White Jordan 1 was on the market, they randomly selected X% of its sale from each day. (It’s not important to know what X is; all that matters is that it’s a random sample, and that the same fixed X% of sales was selected from every day, for every sneaker).\n",
    "\n",
    "They've included 8 variables for us to work with: Order Date, Brand, Sneaker Name, Sale Price ($), Retail Price ($), Release Date, Shoe Size, and Buyer State (the U.S. state the buyer shipped to). You can use whatever variables you want in the analysis; you can use 1 variable, or you can use all 8. And remember, every row in the spreadsheet represents an individual StockX sale. There are no averages or order counts; this is just a random sample of daily sales data."
   ]
  },
  {
   "cell_type": "code",
   "execution_count": 41,
   "metadata": {},
   "outputs": [],
   "source": [
    "sneakerdata = pd.read_excel('StockX-Data-Contest-2019-3.xlsx')"
   ]
  },
  {
   "cell_type": "code",
   "execution_count": 42,
   "metadata": {},
   "outputs": [
    {
     "data": {
      "text/plain": [
       "(99956, 8)"
      ]
     },
     "execution_count": 42,
     "metadata": {},
     "output_type": "execute_result"
    }
   ],
   "source": [
    "sneakerdata.shape"
   ]
  },
  {
   "cell_type": "code",
   "execution_count": 43,
   "metadata": {},
   "outputs": [
    {
     "data": {
      "text/html": [
       "<div>\n",
       "<style scoped>\n",
       "    .dataframe tbody tr th:only-of-type {\n",
       "        vertical-align: middle;\n",
       "    }\n",
       "\n",
       "    .dataframe tbody tr th {\n",
       "        vertical-align: top;\n",
       "    }\n",
       "\n",
       "    .dataframe thead th {\n",
       "        text-align: right;\n",
       "    }\n",
       "</style>\n",
       "<table border=\"1\" class=\"dataframe\">\n",
       "  <thead>\n",
       "    <tr style=\"text-align: right;\">\n",
       "      <th></th>\n",
       "      <th>Order Date</th>\n",
       "      <th>Brand</th>\n",
       "      <th>Sneaker Name</th>\n",
       "      <th>Sale Price</th>\n",
       "      <th>Retail Price</th>\n",
       "      <th>Release Date</th>\n",
       "      <th>Shoe Size</th>\n",
       "      <th>Buyer Region</th>\n",
       "    </tr>\n",
       "  </thead>\n",
       "  <tbody>\n",
       "    <tr>\n",
       "      <th>0</th>\n",
       "      <td>2017-09-01</td>\n",
       "      <td>Yeezy</td>\n",
       "      <td>Adidas-Yeezy-Boost-350-Low-V2-Beluga</td>\n",
       "      <td>1097.0</td>\n",
       "      <td>220</td>\n",
       "      <td>2016-09-24</td>\n",
       "      <td>11.0</td>\n",
       "      <td>California</td>\n",
       "    </tr>\n",
       "    <tr>\n",
       "      <th>1</th>\n",
       "      <td>2017-09-01</td>\n",
       "      <td>Yeezy</td>\n",
       "      <td>Adidas-Yeezy-Boost-350-V2-Core-Black-Copper</td>\n",
       "      <td>685.0</td>\n",
       "      <td>220</td>\n",
       "      <td>2016-11-23</td>\n",
       "      <td>11.0</td>\n",
       "      <td>California</td>\n",
       "    </tr>\n",
       "    <tr>\n",
       "      <th>2</th>\n",
       "      <td>2017-09-01</td>\n",
       "      <td>Yeezy</td>\n",
       "      <td>Adidas-Yeezy-Boost-350-V2-Core-Black-Green</td>\n",
       "      <td>690.0</td>\n",
       "      <td>220</td>\n",
       "      <td>2016-11-23</td>\n",
       "      <td>11.0</td>\n",
       "      <td>California</td>\n",
       "    </tr>\n",
       "    <tr>\n",
       "      <th>3</th>\n",
       "      <td>2017-09-01</td>\n",
       "      <td>Yeezy</td>\n",
       "      <td>Adidas-Yeezy-Boost-350-V2-Core-Black-Red</td>\n",
       "      <td>1075.0</td>\n",
       "      <td>220</td>\n",
       "      <td>2016-11-23</td>\n",
       "      <td>11.5</td>\n",
       "      <td>Kentucky</td>\n",
       "    </tr>\n",
       "    <tr>\n",
       "      <th>4</th>\n",
       "      <td>2017-09-01</td>\n",
       "      <td>Yeezy</td>\n",
       "      <td>Adidas-Yeezy-Boost-350-V2-Core-Black-Red-2017</td>\n",
       "      <td>828.0</td>\n",
       "      <td>220</td>\n",
       "      <td>2017-02-11</td>\n",
       "      <td>11.0</td>\n",
       "      <td>Rhode Island</td>\n",
       "    </tr>\n",
       "  </tbody>\n",
       "</table>\n",
       "</div>"
      ],
      "text/plain": [
       "  Order Date   Brand                                   Sneaker Name  \\\n",
       "0 2017-09-01   Yeezy           Adidas-Yeezy-Boost-350-Low-V2-Beluga   \n",
       "1 2017-09-01   Yeezy    Adidas-Yeezy-Boost-350-V2-Core-Black-Copper   \n",
       "2 2017-09-01   Yeezy     Adidas-Yeezy-Boost-350-V2-Core-Black-Green   \n",
       "3 2017-09-01   Yeezy       Adidas-Yeezy-Boost-350-V2-Core-Black-Red   \n",
       "4 2017-09-01   Yeezy  Adidas-Yeezy-Boost-350-V2-Core-Black-Red-2017   \n",
       "\n",
       "   Sale Price  Retail Price Release Date  Shoe Size  Buyer Region  \n",
       "0      1097.0           220   2016-09-24       11.0    California  \n",
       "1       685.0           220   2016-11-23       11.0    California  \n",
       "2       690.0           220   2016-11-23       11.0    California  \n",
       "3      1075.0           220   2016-11-23       11.5      Kentucky  \n",
       "4       828.0           220   2017-02-11       11.0  Rhode Island  "
      ]
     },
     "execution_count": 43,
     "metadata": {},
     "output_type": "execute_result"
    }
   ],
   "source": [
    "sneakerdata.head()"
   ]
  },
  {
   "cell_type": "markdown",
   "metadata": {},
   "source": [
    "##### Data Cleaning"
   ]
  },
  {
   "cell_type": "markdown",
   "metadata": {},
   "source": [
    "Let's check for any missing data."
   ]
  },
  {
   "cell_type": "code",
   "execution_count": 44,
   "metadata": {
    "scrolled": false
   },
   "outputs": [
    {
     "data": {
      "text/plain": [
       "Order Date      0\n",
       "Brand           0\n",
       "Sneaker Name    0\n",
       "Sale Price      0\n",
       "Retail Price    0\n",
       "Release Date    0\n",
       "Shoe Size       0\n",
       "Buyer Region    0\n",
       "dtype: int64"
      ]
     },
     "execution_count": 44,
     "metadata": {},
     "output_type": "execute_result"
    }
   ],
   "source": [
    "sneakerdata.isnull().sum()"
   ]
  },
  {
   "cell_type": "markdown",
   "metadata": {},
   "source": [
    "There are no missing data. Let's now check if the data types of the columns are consistent with the values in the columns."
   ]
  },
  {
   "cell_type": "code",
   "execution_count": 45,
   "metadata": {},
   "outputs": [
    {
     "data": {
      "text/plain": [
       "Order Date      datetime64[ns]\n",
       "Brand                   object\n",
       "Sneaker Name            object\n",
       "Sale Price             float64\n",
       "Retail Price             int64\n",
       "Release Date    datetime64[ns]\n",
       "Shoe Size              float64\n",
       "Buyer Region            object\n",
       "dtype: object"
      ]
     },
     "execution_count": 45,
     "metadata": {},
     "output_type": "execute_result"
    }
   ],
   "source": [
    "sneakerdata.dtypes"
   ]
  },
  {
   "cell_type": "markdown",
   "metadata": {},
   "source": [
    "The data is consistent with the type of values.\n",
    "\n",
    "The data seems to be about shoe sales, but there is no profit column. Profit is the difference between the sale price and the retail price. Let's add a profit column to our data frame."
   ]
  },
  {
   "cell_type": "code",
   "execution_count": 46,
   "metadata": {},
   "outputs": [],
   "source": [
    "sneakerdata['Profit'] = sneakerdata['Sale Price'] - sneakerdata['Retail Price']"
   ]
  },
  {
   "cell_type": "code",
   "execution_count": 47,
   "metadata": {
    "scrolled": true
   },
   "outputs": [
    {
     "data": {
      "text/html": [
       "<div>\n",
       "<style scoped>\n",
       "    .dataframe tbody tr th:only-of-type {\n",
       "        vertical-align: middle;\n",
       "    }\n",
       "\n",
       "    .dataframe tbody tr th {\n",
       "        vertical-align: top;\n",
       "    }\n",
       "\n",
       "    .dataframe thead th {\n",
       "        text-align: right;\n",
       "    }\n",
       "</style>\n",
       "<table border=\"1\" class=\"dataframe\">\n",
       "  <thead>\n",
       "    <tr style=\"text-align: right;\">\n",
       "      <th></th>\n",
       "      <th>Order Date</th>\n",
       "      <th>Brand</th>\n",
       "      <th>Sneaker Name</th>\n",
       "      <th>Sale Price</th>\n",
       "      <th>Retail Price</th>\n",
       "      <th>Release Date</th>\n",
       "      <th>Shoe Size</th>\n",
       "      <th>Buyer Region</th>\n",
       "      <th>Profit</th>\n",
       "    </tr>\n",
       "  </thead>\n",
       "  <tbody>\n",
       "    <tr>\n",
       "      <th>0</th>\n",
       "      <td>2017-09-01</td>\n",
       "      <td>Yeezy</td>\n",
       "      <td>Adidas-Yeezy-Boost-350-Low-V2-Beluga</td>\n",
       "      <td>1097.0</td>\n",
       "      <td>220</td>\n",
       "      <td>2016-09-24</td>\n",
       "      <td>11.0</td>\n",
       "      <td>California</td>\n",
       "      <td>877.0</td>\n",
       "    </tr>\n",
       "    <tr>\n",
       "      <th>1</th>\n",
       "      <td>2017-09-01</td>\n",
       "      <td>Yeezy</td>\n",
       "      <td>Adidas-Yeezy-Boost-350-V2-Core-Black-Copper</td>\n",
       "      <td>685.0</td>\n",
       "      <td>220</td>\n",
       "      <td>2016-11-23</td>\n",
       "      <td>11.0</td>\n",
       "      <td>California</td>\n",
       "      <td>465.0</td>\n",
       "    </tr>\n",
       "    <tr>\n",
       "      <th>2</th>\n",
       "      <td>2017-09-01</td>\n",
       "      <td>Yeezy</td>\n",
       "      <td>Adidas-Yeezy-Boost-350-V2-Core-Black-Green</td>\n",
       "      <td>690.0</td>\n",
       "      <td>220</td>\n",
       "      <td>2016-11-23</td>\n",
       "      <td>11.0</td>\n",
       "      <td>California</td>\n",
       "      <td>470.0</td>\n",
       "    </tr>\n",
       "    <tr>\n",
       "      <th>3</th>\n",
       "      <td>2017-09-01</td>\n",
       "      <td>Yeezy</td>\n",
       "      <td>Adidas-Yeezy-Boost-350-V2-Core-Black-Red</td>\n",
       "      <td>1075.0</td>\n",
       "      <td>220</td>\n",
       "      <td>2016-11-23</td>\n",
       "      <td>11.5</td>\n",
       "      <td>Kentucky</td>\n",
       "      <td>855.0</td>\n",
       "    </tr>\n",
       "    <tr>\n",
       "      <th>4</th>\n",
       "      <td>2017-09-01</td>\n",
       "      <td>Yeezy</td>\n",
       "      <td>Adidas-Yeezy-Boost-350-V2-Core-Black-Red-2017</td>\n",
       "      <td>828.0</td>\n",
       "      <td>220</td>\n",
       "      <td>2017-02-11</td>\n",
       "      <td>11.0</td>\n",
       "      <td>Rhode Island</td>\n",
       "      <td>608.0</td>\n",
       "    </tr>\n",
       "  </tbody>\n",
       "</table>\n",
       "</div>"
      ],
      "text/plain": [
       "  Order Date   Brand                                   Sneaker Name  \\\n",
       "0 2017-09-01   Yeezy           Adidas-Yeezy-Boost-350-Low-V2-Beluga   \n",
       "1 2017-09-01   Yeezy    Adidas-Yeezy-Boost-350-V2-Core-Black-Copper   \n",
       "2 2017-09-01   Yeezy     Adidas-Yeezy-Boost-350-V2-Core-Black-Green   \n",
       "3 2017-09-01   Yeezy       Adidas-Yeezy-Boost-350-V2-Core-Black-Red   \n",
       "4 2017-09-01   Yeezy  Adidas-Yeezy-Boost-350-V2-Core-Black-Red-2017   \n",
       "\n",
       "   Sale Price  Retail Price Release Date  Shoe Size  Buyer Region  Profit  \n",
       "0      1097.0           220   2016-09-24       11.0    California   877.0  \n",
       "1       685.0           220   2016-11-23       11.0    California   465.0  \n",
       "2       690.0           220   2016-11-23       11.0    California   470.0  \n",
       "3      1075.0           220   2016-11-23       11.5      Kentucky   855.0  \n",
       "4       828.0           220   2017-02-11       11.0  Rhode Island   608.0  "
      ]
     },
     "execution_count": 47,
     "metadata": {},
     "output_type": "execute_result"
    }
   ],
   "source": [
    "sneakerdata.head()"
   ]
  },
  {
   "cell_type": "markdown",
   "metadata": {},
   "source": [
    "Let's re-order the columns for aesthetics so that 'Profit' is next to 'Sale Price' and 'Retail Price'"
   ]
  },
  {
   "cell_type": "code",
   "execution_count": 48,
   "metadata": {},
   "outputs": [
    {
     "data": {
      "text/html": [
       "<div>\n",
       "<style scoped>\n",
       "    .dataframe tbody tr th:only-of-type {\n",
       "        vertical-align: middle;\n",
       "    }\n",
       "\n",
       "    .dataframe tbody tr th {\n",
       "        vertical-align: top;\n",
       "    }\n",
       "\n",
       "    .dataframe thead th {\n",
       "        text-align: right;\n",
       "    }\n",
       "</style>\n",
       "<table border=\"1\" class=\"dataframe\">\n",
       "  <thead>\n",
       "    <tr style=\"text-align: right;\">\n",
       "      <th></th>\n",
       "      <th>Order Date</th>\n",
       "      <th>Brand</th>\n",
       "      <th>Sneaker Name</th>\n",
       "      <th>Sale Price</th>\n",
       "      <th>Retail Price</th>\n",
       "      <th>Profit</th>\n",
       "      <th>Release Date</th>\n",
       "      <th>Shoe Size</th>\n",
       "      <th>Buyer Region</th>\n",
       "    </tr>\n",
       "  </thead>\n",
       "  <tbody>\n",
       "    <tr>\n",
       "      <th>0</th>\n",
       "      <td>2017-09-01</td>\n",
       "      <td>Yeezy</td>\n",
       "      <td>Adidas-Yeezy-Boost-350-Low-V2-Beluga</td>\n",
       "      <td>1097.0</td>\n",
       "      <td>220</td>\n",
       "      <td>877.0</td>\n",
       "      <td>2016-09-24</td>\n",
       "      <td>11.0</td>\n",
       "      <td>California</td>\n",
       "    </tr>\n",
       "    <tr>\n",
       "      <th>1</th>\n",
       "      <td>2017-09-01</td>\n",
       "      <td>Yeezy</td>\n",
       "      <td>Adidas-Yeezy-Boost-350-V2-Core-Black-Copper</td>\n",
       "      <td>685.0</td>\n",
       "      <td>220</td>\n",
       "      <td>465.0</td>\n",
       "      <td>2016-11-23</td>\n",
       "      <td>11.0</td>\n",
       "      <td>California</td>\n",
       "    </tr>\n",
       "    <tr>\n",
       "      <th>2</th>\n",
       "      <td>2017-09-01</td>\n",
       "      <td>Yeezy</td>\n",
       "      <td>Adidas-Yeezy-Boost-350-V2-Core-Black-Green</td>\n",
       "      <td>690.0</td>\n",
       "      <td>220</td>\n",
       "      <td>470.0</td>\n",
       "      <td>2016-11-23</td>\n",
       "      <td>11.0</td>\n",
       "      <td>California</td>\n",
       "    </tr>\n",
       "    <tr>\n",
       "      <th>3</th>\n",
       "      <td>2017-09-01</td>\n",
       "      <td>Yeezy</td>\n",
       "      <td>Adidas-Yeezy-Boost-350-V2-Core-Black-Red</td>\n",
       "      <td>1075.0</td>\n",
       "      <td>220</td>\n",
       "      <td>855.0</td>\n",
       "      <td>2016-11-23</td>\n",
       "      <td>11.5</td>\n",
       "      <td>Kentucky</td>\n",
       "    </tr>\n",
       "    <tr>\n",
       "      <th>4</th>\n",
       "      <td>2017-09-01</td>\n",
       "      <td>Yeezy</td>\n",
       "      <td>Adidas-Yeezy-Boost-350-V2-Core-Black-Red-2017</td>\n",
       "      <td>828.0</td>\n",
       "      <td>220</td>\n",
       "      <td>608.0</td>\n",
       "      <td>2017-02-11</td>\n",
       "      <td>11.0</td>\n",
       "      <td>Rhode Island</td>\n",
       "    </tr>\n",
       "  </tbody>\n",
       "</table>\n",
       "</div>"
      ],
      "text/plain": [
       "  Order Date   Brand                                   Sneaker Name  \\\n",
       "0 2017-09-01   Yeezy           Adidas-Yeezy-Boost-350-Low-V2-Beluga   \n",
       "1 2017-09-01   Yeezy    Adidas-Yeezy-Boost-350-V2-Core-Black-Copper   \n",
       "2 2017-09-01   Yeezy     Adidas-Yeezy-Boost-350-V2-Core-Black-Green   \n",
       "3 2017-09-01   Yeezy       Adidas-Yeezy-Boost-350-V2-Core-Black-Red   \n",
       "4 2017-09-01   Yeezy  Adidas-Yeezy-Boost-350-V2-Core-Black-Red-2017   \n",
       "\n",
       "   Sale Price  Retail Price  Profit Release Date  Shoe Size  Buyer Region  \n",
       "0      1097.0           220   877.0   2016-09-24       11.0    California  \n",
       "1       685.0           220   465.0   2016-11-23       11.0    California  \n",
       "2       690.0           220   470.0   2016-11-23       11.0    California  \n",
       "3      1075.0           220   855.0   2016-11-23       11.5      Kentucky  \n",
       "4       828.0           220   608.0   2017-02-11       11.0  Rhode Island  "
      ]
     },
     "execution_count": 48,
     "metadata": {},
     "output_type": "execute_result"
    }
   ],
   "source": [
    "sneakerdata = sneakerdata[['Order Date', 'Brand', 'Sneaker Name', 'Sale Price', 'Retail Price','Profit','Release Date','Shoe Size','Buyer Region']]\n",
    "sneakerdata.head()"
   ]
  },
  {
   "cell_type": "markdown",
   "metadata": {},
   "source": [
    "Let's take a look at the different shoe brands."
   ]
  },
  {
   "cell_type": "code",
   "execution_count": 49,
   "metadata": {},
   "outputs": [
    {
     "data": {
      "text/plain": [
       "array([' Yeezy', 'Off-White'], dtype=object)"
      ]
     },
     "execution_count": 49,
     "metadata": {},
     "output_type": "execute_result"
    }
   ],
   "source": [
    "sneakerdata['Brand'].unique()"
   ]
  },
  {
   "cell_type": "markdown",
   "metadata": {},
   "source": [
    "There seems to be an uncessary space before the word Yeezy in the data. Let us get rid of it using RegEx. Using this idea: https://stackoverflow.com/questions/25698710/replace-all-occurrences-of-a-string-in-a-pandas-dataframe-python  we will replace ' Yeezy' with 'Yeezy'"
   ]
  },
  {
   "cell_type": "code",
   "execution_count": 50,
   "metadata": {},
   "outputs": [
    {
     "data": {
      "text/plain": [
       "72162"
      ]
     },
     "execution_count": 50,
     "metadata": {},
     "output_type": "execute_result"
    }
   ],
   "source": [
    "sneakerdata[sneakerdata['Brand'] == \" Yeezy\"].shape[0] ##checking initial rows"
   ]
  },
  {
   "cell_type": "code",
   "execution_count": 51,
   "metadata": {},
   "outputs": [
    {
     "data": {
      "text/plain": [
       "27794"
      ]
     },
     "execution_count": 51,
     "metadata": {},
     "output_type": "execute_result"
    }
   ],
   "source": [
    "sneakerdata[sneakerdata['Brand'] == \"Off-White\"].shape[0] ##checking initial rows"
   ]
  },
  {
   "cell_type": "code",
   "execution_count": 52,
   "metadata": {
    "scrolled": true
   },
   "outputs": [],
   "source": [
    "sneakerdata['Brand'] = sneakerdata['Brand'].replace({' Yeezy': 'Yeezy'}, regex=True)"
   ]
  },
  {
   "cell_type": "code",
   "execution_count": 53,
   "metadata": {},
   "outputs": [
    {
     "data": {
      "text/plain": [
       "72162"
      ]
     },
     "execution_count": 53,
     "metadata": {},
     "output_type": "execute_result"
    }
   ],
   "source": [
    "sneakerdata[sneakerdata['Brand'] == \"Yeezy\"].shape[0] ##rows match, the regex worked"
   ]
  },
  {
   "cell_type": "code",
   "execution_count": 54,
   "metadata": {},
   "outputs": [
    {
     "data": {
      "text/plain": [
       "27794"
      ]
     },
     "execution_count": 54,
     "metadata": {},
     "output_type": "execute_result"
    }
   ],
   "source": [
    "sneakerdata[sneakerdata['Brand'] == \"Off-White\"].shape[0] ##rows match, the regex worked"
   ]
  },
  {
   "cell_type": "code",
   "execution_count": 55,
   "metadata": {},
   "outputs": [
    {
     "data": {
      "text/plain": [
       "array(['California', 'Kentucky', 'Rhode Island', 'Michigan', 'New York',\n",
       "       'Kansas', 'Florida', 'New Jersey', 'Texas', 'North Carolina',\n",
       "       'Oregon', 'Alabama', 'Delaware', 'Virginia', 'Wisconsin',\n",
       "       'Colorado', 'Massachusetts', 'Pennsylvania', 'Louisiana',\n",
       "       'Washington', 'Georgia', 'Ohio', 'Nebraska', 'Oklahoma',\n",
       "       'Connecticut', 'Missouri', 'South Carolina', 'Maine', 'Illinois',\n",
       "       'Nevada', 'Maryland', 'Arizona', 'Minnesota', 'Iowa', 'Tennessee',\n",
       "       'West Virginia', 'Indiana', 'Arkansas', 'Alaska', 'Wyoming',\n",
       "       'Utah', 'New Hampshire', 'Vermont', 'District of Columbia',\n",
       "       'Hawaii', 'New Mexico', 'South Dakota', 'Mississippi',\n",
       "       'North Dakota', 'Idaho', 'Montana'], dtype=object)"
      ]
     },
     "execution_count": 55,
     "metadata": {},
     "output_type": "execute_result"
    }
   ],
   "source": [
    "sneakerdata['Buyer Region'].unique()"
   ]
  },
  {
   "cell_type": "markdown",
   "metadata": {},
   "source": [
    "##### Data Exploration"
   ]
  },
  {
   "cell_type": "markdown",
   "metadata": {},
   "source": [
    "In my data exploration, I will try to answer some thought-provoking questions about the dataset that I will come up with myself in order to find some interesting results."
   ]
  },
  {
   "cell_type": "markdown",
   "metadata": {},
   "source": [
    "#### 1. Which shoe size generated the most average profit? For Yeezy's? For Off-whites? What about the least average profit?"
   ]
  },
  {
   "cell_type": "markdown",
   "metadata": {},
   "source": [
    "First, let us see the unique shoe sizes for yeezy's and off-whites, respectively."
   ]
  },
  {
   "cell_type": "code",
   "execution_count": 56,
   "metadata": {
    "scrolled": false
   },
   "outputs": [],
   "source": [
    "yeezy = sneakerdata[sneakerdata['Brand'] == \"Yeezy\"]"
   ]
  },
  {
   "cell_type": "code",
   "execution_count": 57,
   "metadata": {},
   "outputs": [],
   "source": [
    "offwhite = sneakerdata[sneakerdata['Brand'] == \"Off-White\"]"
   ]
  },
  {
   "cell_type": "code",
   "execution_count": 58,
   "metadata": {},
   "outputs": [
    {
     "data": {
      "text/plain": [
       "Shoe Size\n",
       "17.0    615.333333\n",
       "16.0    482.066667\n",
       "14.5    230.440476\n",
       "13.5    172.523810\n",
       "12.5    168.353464\n",
       "14.0    156.344124\n",
       "11.0    152.163142\n",
       "13.0    151.477338\n",
       "9.5     144.985291\n",
       "10.0    143.860640\n",
       "10.5    143.796080\n",
       "6.5     143.208804\n",
       "11.5    142.121689\n",
       "12.0    141.474104\n",
       "8.5     141.041237\n",
       "6.0     140.270868\n",
       "8.0     138.008518\n",
       "9.0     132.979267\n",
       "3.5     129.000000\n",
       "5.5     127.116979\n",
       "7.5     126.265436\n",
       "7.0     125.619676\n",
       "5.0     123.892903\n",
       "4.5     114.205781\n",
       "4.0     107.985032\n",
       "Name: Profit, dtype: float64"
      ]
     },
     "execution_count": 58,
     "metadata": {},
     "output_type": "execute_result"
    }
   ],
   "source": [
    "yeezy.groupby(['Shoe Size']).mean()['Profit'].reset_index().sort_values('Profit', ascending = False).set_index('Shoe Size')['Profit']"
   ]
  },
  {
   "cell_type": "code",
   "execution_count": 59,
   "metadata": {},
   "outputs": [
    {
     "data": {
      "text/plain": [
       "Shoe Size\n",
       "17.0    2060.000000\n",
       "16.0    1490.250000\n",
       "14.0     551.646847\n",
       "12.5     536.092308\n",
       "9.0      535.184513\n",
       "10.0     530.122029\n",
       "8.0      525.135565\n",
       "9.5      511.911618\n",
       "11.0     504.027723\n",
       "8.5      492.487328\n",
       "12.0     491.154280\n",
       "15.0     490.515385\n",
       "7.5      489.797904\n",
       "13.0     472.214069\n",
       "10.5     462.443742\n",
       "11.5     458.529817\n",
       "7.0      444.071095\n",
       "5.0      438.117647\n",
       "6.0      428.859061\n",
       "4.5      416.850825\n",
       "4.0      407.490314\n",
       "6.5      405.141375\n",
       "5.5      403.327526\n",
       "3.5      305.333333\n",
       "Name: Profit, dtype: float64"
      ]
     },
     "execution_count": 59,
     "metadata": {},
     "output_type": "execute_result"
    }
   ],
   "source": [
    "offwhite.groupby(['Shoe Size']).mean()['Profit'].reset_index().sort_values('Profit', ascending = False).set_index('Shoe Size')['Profit']"
   ]
  },
  {
   "cell_type": "markdown",
   "metadata": {},
   "source": [
    "From these results based on the average profit for each size, larger sizes tend to have more profit than smaller sizes. This is actually contradictory to what real life profit entails. In real life, smaller sizes in general do better because they are made in less amounts than bigger sizes. Perhaps since this is a small subset of the data overall, we see that bigger sizes do better in profit."
   ]
  },
  {
   "cell_type": "markdown",
   "metadata": {},
   "source": [
    "#### 2. Which region tends to buy more Yeezy's? More Off-whites?"
   ]
  },
  {
   "cell_type": "code",
   "execution_count": 60,
   "metadata": {
    "scrolled": true
   },
   "outputs": [
    {
     "data": {
      "text/plain": [
       "Buyer Region\n",
       "California       13113\n",
       "New York         12103\n",
       "Oregon            5396\n",
       "Florida           4484\n",
       "Texas             4455\n",
       "New Jersey        3371\n",
       "Illinois          2732\n",
       "Pennsylvania      2396\n",
       "Michigan          2209\n",
       "Massachusetts     2189\n",
       "Name: Order Date, dtype: int64"
      ]
     },
     "execution_count": 60,
     "metadata": {},
     "output_type": "execute_result"
    }
   ],
   "source": [
    "yeezy.groupby(['Buyer Region']).count().reset_index().sort_values('Order Date', ascending = False).set_index('Buyer Region')['Order Date'][0:10]"
   ]
  },
  {
   "cell_type": "code",
   "execution_count": 61,
   "metadata": {},
   "outputs": [
    {
     "data": {
      "text/plain": [
       "Buyer Region\n",
       "California       6236\n",
       "New York         4422\n",
       "Oregon           2285\n",
       "Florida          1892\n",
       "Texas            1421\n",
       "New Jersey       1349\n",
       "Illinois         1050\n",
       "Massachusetts     714\n",
       "Pennsylvania      713\n",
       "Virginia          605\n",
       "Name: Order Date, dtype: int64"
      ]
     },
     "execution_count": 61,
     "metadata": {},
     "output_type": "execute_result"
    }
   ],
   "source": [
    "offwhite.groupby(['Buyer Region']).count().reset_index().sort_values('Order Date', ascending = False).set_index('Buyer Region')['Order Date'][0:10]"
   ]
  },
  {
   "cell_type": "markdown",
   "metadata": {},
   "source": [
    "Based on these results, it seems that the top 10 regions that tend to buy one brand tend to buy the other, with California being at the top."
   ]
  },
  {
   "cell_type": "markdown",
   "metadata": {},
   "source": [
    "#### 3. Which yeezy has the most profit on average? Least Profit?  Which Off-white has the most profit on average? Least Profit?"
   ]
  },
  {
   "cell_type": "code",
   "execution_count": 62,
   "metadata": {},
   "outputs": [
    {
     "data": {
      "text/html": [
       "<div>\n",
       "<style scoped>\n",
       "    .dataframe tbody tr th:only-of-type {\n",
       "        vertical-align: middle;\n",
       "    }\n",
       "\n",
       "    .dataframe tbody tr th {\n",
       "        vertical-align: top;\n",
       "    }\n",
       "\n",
       "    .dataframe thead th {\n",
       "        text-align: right;\n",
       "    }\n",
       "</style>\n",
       "<table border=\"1\" class=\"dataframe\">\n",
       "  <thead>\n",
       "    <tr style=\"text-align: right;\">\n",
       "      <th></th>\n",
       "      <th>Profit</th>\n",
       "    </tr>\n",
       "    <tr>\n",
       "      <th>Sneaker Name</th>\n",
       "      <th></th>\n",
       "    </tr>\n",
       "  </thead>\n",
       "  <tbody>\n",
       "    <tr>\n",
       "      <th>Adidas-Yeezy-Boost-350-Low-Turtledove</th>\n",
       "      <td>1331.661765</td>\n",
       "    </tr>\n",
       "    <tr>\n",
       "      <th>Adidas-Yeezy-Boost-350-Low-Oxford-Tan</th>\n",
       "      <td>811.514286</td>\n",
       "    </tr>\n",
       "    <tr>\n",
       "      <th>Adidas-Yeezy-Boost-350-Low-Moonrock</th>\n",
       "      <td>796.710000</td>\n",
       "    </tr>\n",
       "    <tr>\n",
       "      <th>Adidas-Yeezy-Boost-350-Low-Pirate-Black-2016</th>\n",
       "      <td>784.237705</td>\n",
       "    </tr>\n",
       "    <tr>\n",
       "      <th>Adidas-Yeezy-Boost-350-V2-Core-Black-Red</th>\n",
       "      <td>717.754967</td>\n",
       "    </tr>\n",
       "    <tr>\n",
       "      <th>Adidas-Yeezy-Boost-350-Low-Pirate-Black-2015</th>\n",
       "      <td>695.094737</td>\n",
       "    </tr>\n",
       "    <tr>\n",
       "      <th>Adidas-Yeezy-Boost-350-V2-Core-Black-Red-2017</th>\n",
       "      <td>584.304438</td>\n",
       "    </tr>\n",
       "    <tr>\n",
       "      <th>Adidas-Yeezy-Boost-350-Low-V2-Beluga</th>\n",
       "      <td>568.704819</td>\n",
       "    </tr>\n",
       "    <tr>\n",
       "      <th>Adidas-Yeezy-Boost-350-V2-Core-Black-White</th>\n",
       "      <td>498.412238</td>\n",
       "    </tr>\n",
       "    <tr>\n",
       "      <th>Adidas-Yeezy-Boost-350-V2-Core-Black-Copper</th>\n",
       "      <td>436.631111</td>\n",
       "    </tr>\n",
       "    <tr>\n",
       "      <th>Adidas-Yeezy-Boost-350-V2-Core-Black-Green</th>\n",
       "      <td>402.801020</td>\n",
       "    </tr>\n",
       "    <tr>\n",
       "      <th>adidas-Yeezy-Boost-350-V2-Static-Reflective</th>\n",
       "      <td>248.145628</td>\n",
       "    </tr>\n",
       "    <tr>\n",
       "      <th>Adidas-Yeezy-Boost-350-V2-Beluga-2pt0</th>\n",
       "      <td>180.439666</td>\n",
       "    </tr>\n",
       "    <tr>\n",
       "      <th>Adidas-Yeezy-Boost-350-V2-Semi-Frozen-Yellow</th>\n",
       "      <td>170.586994</td>\n",
       "    </tr>\n",
       "    <tr>\n",
       "      <th>Adidas-Yeezy-Boost-350-V2-Blue-Tint</th>\n",
       "      <td>158.986125</td>\n",
       "    </tr>\n",
       "    <tr>\n",
       "      <th>Adidas-Yeezy-Boost-350-V2-Zebra</th>\n",
       "      <td>141.272369</td>\n",
       "    </tr>\n",
       "    <tr>\n",
       "      <th>Adidas-Yeezy-Boost-350-V2-Cream-White</th>\n",
       "      <td>68.708951</td>\n",
       "    </tr>\n",
       "    <tr>\n",
       "      <th>adidas-Yeezy-Boost-350-V2-Static</th>\n",
       "      <td>67.066517</td>\n",
       "    </tr>\n",
       "    <tr>\n",
       "      <th>adidas-Yeezy-Boost-350-V2-Butter</th>\n",
       "      <td>49.760593</td>\n",
       "    </tr>\n",
       "    <tr>\n",
       "      <th>Adidas-Yeezy-Boost-350-V2-Sesame</th>\n",
       "      <td>44.068849</td>\n",
       "    </tr>\n",
       "  </tbody>\n",
       "</table>\n",
       "</div>"
      ],
      "text/plain": [
       "                                                    Profit\n",
       "Sneaker Name                                              \n",
       "Adidas-Yeezy-Boost-350-Low-Turtledove          1331.661765\n",
       "Adidas-Yeezy-Boost-350-Low-Oxford-Tan           811.514286\n",
       "Adidas-Yeezy-Boost-350-Low-Moonrock             796.710000\n",
       "Adidas-Yeezy-Boost-350-Low-Pirate-Black-2016    784.237705\n",
       "Adidas-Yeezy-Boost-350-V2-Core-Black-Red        717.754967\n",
       "Adidas-Yeezy-Boost-350-Low-Pirate-Black-2015    695.094737\n",
       "Adidas-Yeezy-Boost-350-V2-Core-Black-Red-2017   584.304438\n",
       "Adidas-Yeezy-Boost-350-Low-V2-Beluga            568.704819\n",
       "Adidas-Yeezy-Boost-350-V2-Core-Black-White      498.412238\n",
       "Adidas-Yeezy-Boost-350-V2-Core-Black-Copper     436.631111\n",
       "Adidas-Yeezy-Boost-350-V2-Core-Black-Green      402.801020\n",
       "adidas-Yeezy-Boost-350-V2-Static-Reflective     248.145628\n",
       "Adidas-Yeezy-Boost-350-V2-Beluga-2pt0           180.439666\n",
       "Adidas-Yeezy-Boost-350-V2-Semi-Frozen-Yellow    170.586994\n",
       "Adidas-Yeezy-Boost-350-V2-Blue-Tint             158.986125\n",
       "Adidas-Yeezy-Boost-350-V2-Zebra                 141.272369\n",
       "Adidas-Yeezy-Boost-350-V2-Cream-White            68.708951\n",
       "adidas-Yeezy-Boost-350-V2-Static                 67.066517\n",
       "adidas-Yeezy-Boost-350-V2-Butter                 49.760593\n",
       "Adidas-Yeezy-Boost-350-V2-Sesame                 44.068849"
      ]
     },
     "execution_count": 62,
     "metadata": {},
     "output_type": "execute_result"
    }
   ],
   "source": [
    "yeezy.groupby(['Sneaker Name']).mean()['Profit'].reset_index().sort_values('Profit', ascending = False).set_index('Sneaker Name')"
   ]
  },
  {
   "cell_type": "markdown",
   "metadata": {},
   "source": [
    "The Yeezy with the most average profit is the 350 low turtledove while the lowest is the 350 v2 sesame."
   ]
  },
  {
   "cell_type": "code",
   "execution_count": 63,
   "metadata": {
    "scrolled": true
   },
   "outputs": [
    {
     "data": {
      "text/html": [
       "<div>\n",
       "<style scoped>\n",
       "    .dataframe tbody tr th:only-of-type {\n",
       "        vertical-align: middle;\n",
       "    }\n",
       "\n",
       "    .dataframe tbody tr th {\n",
       "        vertical-align: top;\n",
       "    }\n",
       "\n",
       "    .dataframe thead th {\n",
       "        text-align: right;\n",
       "    }\n",
       "</style>\n",
       "<table border=\"1\" class=\"dataframe\">\n",
       "  <thead>\n",
       "    <tr style=\"text-align: right;\">\n",
       "      <th></th>\n",
       "      <th>Profit</th>\n",
       "    </tr>\n",
       "    <tr>\n",
       "      <th>Sneaker Name</th>\n",
       "      <th></th>\n",
       "    </tr>\n",
       "  </thead>\n",
       "  <tbody>\n",
       "    <tr>\n",
       "      <th>Air-Jordan-1-Retro-High-Off-White-White</th>\n",
       "      <td>1636.068894</td>\n",
       "    </tr>\n",
       "    <tr>\n",
       "      <th>Air-Jordan-1-Retro-High-Off-White-Chicago</th>\n",
       "      <td>1579.800000</td>\n",
       "    </tr>\n",
       "    <tr>\n",
       "      <th>Nike-Air-Presto-Off-White</th>\n",
       "      <td>1076.055369</td>\n",
       "    </tr>\n",
       "    <tr>\n",
       "      <th>Nike-Air-Force-1-Low-Virgil-Abloh-Off-White-AF100</th>\n",
       "      <td>825.516129</td>\n",
       "    </tr>\n",
       "    <tr>\n",
       "      <th>Nike-Air-Max-97-Off-White-Elemental-Rose-Queen</th>\n",
       "      <td>703.782407</td>\n",
       "    </tr>\n",
       "    <tr>\n",
       "      <th>Air-Jordan-1-Retro-High-Off-White-University-Blue</th>\n",
       "      <td>660.853503</td>\n",
       "    </tr>\n",
       "    <tr>\n",
       "      <th>Nike-Blazer-Mid-Off-White-Wolf-Grey</th>\n",
       "      <td>654.822917</td>\n",
       "    </tr>\n",
       "    <tr>\n",
       "      <th>Nike-Air-VaporMax-Off-White</th>\n",
       "      <td>606.676190</td>\n",
       "    </tr>\n",
       "    <tr>\n",
       "      <th>Nike-Air-Presto-Off-White-Black-2018</th>\n",
       "      <td>570.469307</td>\n",
       "    </tr>\n",
       "    <tr>\n",
       "      <th>Nike-Blazer-Mid-Off-White</th>\n",
       "      <td>565.475050</td>\n",
       "    </tr>\n",
       "    <tr>\n",
       "      <th>Nike-Air-Max-97-Off-White-Menta</th>\n",
       "      <td>562.672901</td>\n",
       "    </tr>\n",
       "    <tr>\n",
       "      <th>Nike-Air-Max-90-Off-White</th>\n",
       "      <td>549.923445</td>\n",
       "    </tr>\n",
       "    <tr>\n",
       "      <th>Nike-Air-Force-1-Low-Off-White</th>\n",
       "      <td>547.462185</td>\n",
       "    </tr>\n",
       "    <tr>\n",
       "      <th>Nike-Air-Max-97-Off-White-Black</th>\n",
       "      <td>482.100346</td>\n",
       "    </tr>\n",
       "    <tr>\n",
       "      <th>Nike-Blazer-Mid-Off-White-All-Hallows-Eve</th>\n",
       "      <td>476.180019</td>\n",
       "    </tr>\n",
       "    <tr>\n",
       "      <th>Nike-Air-Presto-Off-White-White-2018</th>\n",
       "      <td>474.391674</td>\n",
       "    </tr>\n",
       "    <tr>\n",
       "      <th>Nike-Air-Max-97-Off-White</th>\n",
       "      <td>474.290441</td>\n",
       "    </tr>\n",
       "    <tr>\n",
       "      <th>Nike-Blazer-Mid-Off-White-Grim-Reaper</th>\n",
       "      <td>398.822368</td>\n",
       "    </tr>\n",
       "    <tr>\n",
       "      <th>Nike-Air-Max-90-Off-White-Black</th>\n",
       "      <td>392.785469</td>\n",
       "    </tr>\n",
       "    <tr>\n",
       "      <th>Nike-Air-VaporMax-Off-White-Black</th>\n",
       "      <td>378.478062</td>\n",
       "    </tr>\n",
       "    <tr>\n",
       "      <th>Nike-Air-Max-90-Off-White-Desert-Ore</th>\n",
       "      <td>372.542680</td>\n",
       "    </tr>\n",
       "    <tr>\n",
       "      <th>Nike-Zoom-Fly-Off-White</th>\n",
       "      <td>364.816092</td>\n",
       "    </tr>\n",
       "    <tr>\n",
       "      <th>Nike-Air-Force-1-Low-Off-White-Black-White</th>\n",
       "      <td>342.126152</td>\n",
       "    </tr>\n",
       "    <tr>\n",
       "      <th>Nike-Air-VaporMax-Off-White-2018</th>\n",
       "      <td>342.024513</td>\n",
       "    </tr>\n",
       "    <tr>\n",
       "      <th>Nike-React-Hyperdunk-2017-Flyknit-Off-White</th>\n",
       "      <td>294.946281</td>\n",
       "    </tr>\n",
       "    <tr>\n",
       "      <th>Nike-Air-Force-1-Low-Off-White-Volt</th>\n",
       "      <td>221.236868</td>\n",
       "    </tr>\n",
       "    <tr>\n",
       "      <th>Nike-Zoom-Fly-Mercurial-Off-White-Black</th>\n",
       "      <td>154.133333</td>\n",
       "    </tr>\n",
       "    <tr>\n",
       "      <th>Nike-Zoom-Fly-Off-White-Black-Silver</th>\n",
       "      <td>146.691283</td>\n",
       "    </tr>\n",
       "    <tr>\n",
       "      <th>Nike-Zoom-Fly-Off-White-Pink</th>\n",
       "      <td>101.165512</td>\n",
       "    </tr>\n",
       "    <tr>\n",
       "      <th>Nike-Zoom-Fly-Mercurial-Off-White-Total-Orange</th>\n",
       "      <td>87.914634</td>\n",
       "    </tr>\n",
       "  </tbody>\n",
       "</table>\n",
       "</div>"
      ],
      "text/plain": [
       "                                                        Profit\n",
       "Sneaker Name                                                  \n",
       "Air-Jordan-1-Retro-High-Off-White-White            1636.068894\n",
       "Air-Jordan-1-Retro-High-Off-White-Chicago          1579.800000\n",
       "Nike-Air-Presto-Off-White                          1076.055369\n",
       "Nike-Air-Force-1-Low-Virgil-Abloh-Off-White-AF100   825.516129\n",
       "Nike-Air-Max-97-Off-White-Elemental-Rose-Queen      703.782407\n",
       "Air-Jordan-1-Retro-High-Off-White-University-Blue   660.853503\n",
       "Nike-Blazer-Mid-Off-White-Wolf-Grey                 654.822917\n",
       "Nike-Air-VaporMax-Off-White                         606.676190\n",
       "Nike-Air-Presto-Off-White-Black-2018                570.469307\n",
       "Nike-Blazer-Mid-Off-White                           565.475050\n",
       "Nike-Air-Max-97-Off-White-Menta                     562.672901\n",
       "Nike-Air-Max-90-Off-White                           549.923445\n",
       "Nike-Air-Force-1-Low-Off-White                      547.462185\n",
       "Nike-Air-Max-97-Off-White-Black                     482.100346\n",
       "Nike-Blazer-Mid-Off-White-All-Hallows-Eve           476.180019\n",
       "Nike-Air-Presto-Off-White-White-2018                474.391674\n",
       "Nike-Air-Max-97-Off-White                           474.290441\n",
       "Nike-Blazer-Mid-Off-White-Grim-Reaper               398.822368\n",
       "Nike-Air-Max-90-Off-White-Black                     392.785469\n",
       "Nike-Air-VaporMax-Off-White-Black                   378.478062\n",
       "Nike-Air-Max-90-Off-White-Desert-Ore                372.542680\n",
       "Nike-Zoom-Fly-Off-White                             364.816092\n",
       "Nike-Air-Force-1-Low-Off-White-Black-White          342.126152\n",
       "Nike-Air-VaporMax-Off-White-2018                    342.024513\n",
       "Nike-React-Hyperdunk-2017-Flyknit-Off-White         294.946281\n",
       "Nike-Air-Force-1-Low-Off-White-Volt                 221.236868\n",
       "Nike-Zoom-Fly-Mercurial-Off-White-Black             154.133333\n",
       "Nike-Zoom-Fly-Off-White-Black-Silver                146.691283\n",
       "Nike-Zoom-Fly-Off-White-Pink                        101.165512\n",
       "Nike-Zoom-Fly-Mercurial-Off-White-Total-Orange       87.914634"
      ]
     },
     "execution_count": 63,
     "metadata": {},
     "output_type": "execute_result"
    }
   ],
   "source": [
    "offwhite.groupby(['Sneaker Name']).mean()['Profit'].reset_index().sort_values('Profit', ascending = False).set_index('Sneaker Name')"
   ]
  },
  {
   "cell_type": "markdown",
   "metadata": {},
   "source": [
    "The Offwhite with the most average profit is the air jordan 1 retro high off white while the least average profit is the nike zoom fly mercurial off white total orange."
   ]
  },
  {
   "cell_type": "code",
   "execution_count": 64,
   "metadata": {
    "scrolled": false
   },
   "outputs": [
    {
     "data": {
      "text/plain": [
       "array(['Adidas-Yeezy-Boost-350-Low-V2-Beluga',\n",
       "       'Adidas-Yeezy-Boost-350-V2-Core-Black-Copper',\n",
       "       'Adidas-Yeezy-Boost-350-V2-Core-Black-Green',\n",
       "       'Adidas-Yeezy-Boost-350-V2-Core-Black-Red',\n",
       "       'Adidas-Yeezy-Boost-350-V2-Core-Black-Red-2017',\n",
       "       'Adidas-Yeezy-Boost-350-V2-Core-Black-White',\n",
       "       'Adidas-Yeezy-Boost-350-V2-Cream-White',\n",
       "       'Adidas-Yeezy-Boost-350-V2-Zebra',\n",
       "       'Adidas-Yeezy-Boost-350-Low-Moonrock',\n",
       "       'Adidas-Yeezy-Boost-350-Low-Pirate-Black-2016',\n",
       "       'Adidas-Yeezy-Boost-350-Low-Oxford-Tan',\n",
       "       'Adidas-Yeezy-Boost-350-Low-Turtledove',\n",
       "       'Adidas-Yeezy-Boost-350-Low-Pirate-Black-2015',\n",
       "       'Adidas-Yeezy-Boost-350-V2-Semi-Frozen-Yellow',\n",
       "       'Adidas-Yeezy-Boost-350-V2-Beluga-2pt0',\n",
       "       'Adidas-Yeezy-Boost-350-V2-Blue-Tint',\n",
       "       'adidas-Yeezy-Boost-350-V2-Butter',\n",
       "       'Adidas-Yeezy-Boost-350-V2-Sesame',\n",
       "       'adidas-Yeezy-Boost-350-V2-Static',\n",
       "       'adidas-Yeezy-Boost-350-V2-Static-Reflective'], dtype=object)"
      ]
     },
     "execution_count": 64,
     "metadata": {},
     "output_type": "execute_result"
    }
   ],
   "source": [
    "yeezy['Sneaker Name'].unique()"
   ]
  },
  {
   "cell_type": "code",
   "execution_count": 65,
   "metadata": {},
   "outputs": [
    {
     "data": {
      "text/plain": [
       "array(['California', 'Kentucky', 'Rhode Island', 'Michigan', 'New York',\n",
       "       'Kansas', 'Florida', 'New Jersey', 'Texas', 'North Carolina',\n",
       "       'Oregon', 'Alabama', 'Delaware', 'Virginia', 'Wisconsin',\n",
       "       'Colorado', 'Massachusetts', 'Pennsylvania', 'Louisiana',\n",
       "       'Washington', 'Georgia', 'Ohio', 'Nebraska', 'Oklahoma',\n",
       "       'Connecticut', 'Missouri', 'South Carolina', 'Maine', 'Illinois',\n",
       "       'Nevada', 'Maryland', 'Minnesota', 'Iowa', 'Arizona',\n",
       "       'West Virginia', 'Indiana', 'Tennessee', 'Wyoming', 'Vermont',\n",
       "       'District of Columbia', 'Arkansas', 'Hawaii', 'New Mexico',\n",
       "       'New Hampshire', 'South Dakota', 'Utah', 'Mississippi',\n",
       "       'North Dakota', 'Idaho', 'Alaska', 'Montana'], dtype=object)"
      ]
     },
     "execution_count": 65,
     "metadata": {},
     "output_type": "execute_result"
    }
   ],
   "source": [
    "yeezy['Buyer Region'].unique()"
   ]
  },
  {
   "cell_type": "markdown",
   "metadata": {},
   "source": [
    "#### 4. In which region did each of the Yeezy's garner the most average profit?"
   ]
  },
  {
   "cell_type": "code",
   "execution_count": 66,
   "metadata": {},
   "outputs": [
    {
     "data": {
      "text/html": [
       "<div>\n",
       "<style scoped>\n",
       "    .dataframe tbody tr th:only-of-type {\n",
       "        vertical-align: middle;\n",
       "    }\n",
       "\n",
       "    .dataframe tbody tr th {\n",
       "        vertical-align: top;\n",
       "    }\n",
       "\n",
       "    .dataframe thead th {\n",
       "        text-align: right;\n",
       "    }\n",
       "</style>\n",
       "<table border=\"1\" class=\"dataframe\">\n",
       "  <thead>\n",
       "    <tr style=\"text-align: right;\">\n",
       "      <th></th>\n",
       "      <th>Order Date</th>\n",
       "      <th>Brand</th>\n",
       "      <th>Sneaker Name</th>\n",
       "      <th>Sale Price</th>\n",
       "      <th>Retail Price</th>\n",
       "      <th>Profit</th>\n",
       "      <th>Release Date</th>\n",
       "      <th>Shoe Size</th>\n",
       "      <th>Buyer Region</th>\n",
       "    </tr>\n",
       "  </thead>\n",
       "  <tbody>\n",
       "    <tr>\n",
       "      <th>0</th>\n",
       "      <td>2017-09-01</td>\n",
       "      <td>Yeezy</td>\n",
       "      <td>Adidas-Yeezy-Boost-350-Low-V2-Beluga</td>\n",
       "      <td>1097.0</td>\n",
       "      <td>220</td>\n",
       "      <td>877.0</td>\n",
       "      <td>2016-09-24</td>\n",
       "      <td>11.0</td>\n",
       "      <td>California</td>\n",
       "    </tr>\n",
       "    <tr>\n",
       "      <th>54</th>\n",
       "      <td>2017-09-04</td>\n",
       "      <td>Yeezy</td>\n",
       "      <td>Adidas-Yeezy-Boost-350-Low-V2-Beluga</td>\n",
       "      <td>960.0</td>\n",
       "      <td>220</td>\n",
       "      <td>740.0</td>\n",
       "      <td>2016-09-24</td>\n",
       "      <td>9.0</td>\n",
       "      <td>California</td>\n",
       "    </tr>\n",
       "    <tr>\n",
       "      <th>206</th>\n",
       "      <td>2017-09-11</td>\n",
       "      <td>Yeezy</td>\n",
       "      <td>Adidas-Yeezy-Boost-350-Low-V2-Beluga</td>\n",
       "      <td>1050.0</td>\n",
       "      <td>220</td>\n",
       "      <td>830.0</td>\n",
       "      <td>2016-09-24</td>\n",
       "      <td>11.0</td>\n",
       "      <td>California</td>\n",
       "    </tr>\n",
       "    <tr>\n",
       "      <th>327</th>\n",
       "      <td>2017-09-15</td>\n",
       "      <td>Yeezy</td>\n",
       "      <td>Adidas-Yeezy-Boost-350-Low-V2-Beluga</td>\n",
       "      <td>790.0</td>\n",
       "      <td>220</td>\n",
       "      <td>570.0</td>\n",
       "      <td>2016-09-24</td>\n",
       "      <td>7.0</td>\n",
       "      <td>California</td>\n",
       "    </tr>\n",
       "    <tr>\n",
       "      <th>328</th>\n",
       "      <td>2017-09-15</td>\n",
       "      <td>Yeezy</td>\n",
       "      <td>Adidas-Yeezy-Boost-350-Low-V2-Beluga</td>\n",
       "      <td>800.0</td>\n",
       "      <td>220</td>\n",
       "      <td>580.0</td>\n",
       "      <td>2016-09-24</td>\n",
       "      <td>7.0</td>\n",
       "      <td>California</td>\n",
       "    </tr>\n",
       "  </tbody>\n",
       "</table>\n",
       "</div>"
      ],
      "text/plain": [
       "    Order Date  Brand                          Sneaker Name  Sale Price  \\\n",
       "0   2017-09-01  Yeezy  Adidas-Yeezy-Boost-350-Low-V2-Beluga      1097.0   \n",
       "54  2017-09-04  Yeezy  Adidas-Yeezy-Boost-350-Low-V2-Beluga       960.0   \n",
       "206 2017-09-11  Yeezy  Adidas-Yeezy-Boost-350-Low-V2-Beluga      1050.0   \n",
       "327 2017-09-15  Yeezy  Adidas-Yeezy-Boost-350-Low-V2-Beluga       790.0   \n",
       "328 2017-09-15  Yeezy  Adidas-Yeezy-Boost-350-Low-V2-Beluga       800.0   \n",
       "\n",
       "     Retail Price  Profit Release Date  Shoe Size Buyer Region  \n",
       "0             220   877.0   2016-09-24       11.0   California  \n",
       "54            220   740.0   2016-09-24        9.0   California  \n",
       "206           220   830.0   2016-09-24       11.0   California  \n",
       "327           220   570.0   2016-09-24        7.0   California  \n",
       "328           220   580.0   2016-09-24        7.0   California  "
      ]
     },
     "execution_count": 66,
     "metadata": {},
     "output_type": "execute_result"
    }
   ],
   "source": [
    "test = yeezy[(yeezy['Sneaker Name'] == 'Adidas-Yeezy-Boost-350-Low-V2-Beluga') & (yeezy['Buyer Region'] == 'California')]\n",
    "test.head()"
   ]
  },
  {
   "cell_type": "code",
   "execution_count": 67,
   "metadata": {
    "scrolled": true
   },
   "outputs": [
    {
     "data": {
      "text/html": [
       "<div>\n",
       "<style scoped>\n",
       "    .dataframe tbody tr th:only-of-type {\n",
       "        vertical-align: middle;\n",
       "    }\n",
       "\n",
       "    .dataframe tbody tr th {\n",
       "        vertical-align: top;\n",
       "    }\n",
       "\n",
       "    .dataframe thead th {\n",
       "        text-align: right;\n",
       "    }\n",
       "</style>\n",
       "<table border=\"1\" class=\"dataframe\">\n",
       "  <thead>\n",
       "    <tr style=\"text-align: right;\">\n",
       "      <th></th>\n",
       "      <th>Sneaker Name</th>\n",
       "      <th>Profit</th>\n",
       "      <th>Buyer Region</th>\n",
       "    </tr>\n",
       "  </thead>\n",
       "  <tbody>\n",
       "    <tr>\n",
       "      <th>0</th>\n",
       "      <td>Adidas-Yeezy-Boost-350-Low-V2-Beluga</td>\n",
       "      <td>576.756522</td>\n",
       "      <td>California</td>\n",
       "    </tr>\n",
       "  </tbody>\n",
       "</table>\n",
       "</div>"
      ],
      "text/plain": [
       "                           Sneaker Name      Profit Buyer Region\n",
       "0  Adidas-Yeezy-Boost-350-Low-V2-Beluga  576.756522   California"
      ]
     },
     "execution_count": 67,
     "metadata": {},
     "output_type": "execute_result"
    }
   ],
   "source": [
    "test = test.groupby('Sneaker Name').mean().reset_index()\n",
    "test['Buyer Region'] = 'California'\n",
    "test_result = test[['Sneaker Name', \"Profit\", \"Buyer Region\"]]\n",
    "test_result"
   ]
  },
  {
   "cell_type": "code",
   "execution_count": 68,
   "metadata": {},
   "outputs": [],
   "source": [
    "test_result_2 = pd.DataFrame({'Sneaker Name':['Adidas-Yeezy-Boost-350-Low-V2-Beluga'], 'Profit': [655.123456], 'Buyer Region':['California']}, columns = ['Sneaker Name', 'Profit', 'Buyer Region'])"
   ]
  },
  {
   "cell_type": "code",
   "execution_count": 69,
   "metadata": {},
   "outputs": [],
   "source": [
    "main_yeezy_df = pd.DataFrame()\n",
    "\n",
    "check_each_country_df = pd.DataFrame()\n",
    "check_each_country_df = check_each_country_df.append(test_result)\n",
    "check_each_country_df = check_each_country_df.append(test_result_2)"
   ]
  },
  {
   "cell_type": "code",
   "execution_count": 70,
   "metadata": {},
   "outputs": [
    {
     "data": {
      "text/html": [
       "<div>\n",
       "<style scoped>\n",
       "    .dataframe tbody tr th:only-of-type {\n",
       "        vertical-align: middle;\n",
       "    }\n",
       "\n",
       "    .dataframe tbody tr th {\n",
       "        vertical-align: top;\n",
       "    }\n",
       "\n",
       "    .dataframe thead th {\n",
       "        text-align: right;\n",
       "    }\n",
       "</style>\n",
       "<table border=\"1\" class=\"dataframe\">\n",
       "  <thead>\n",
       "    <tr style=\"text-align: right;\">\n",
       "      <th></th>\n",
       "      <th>Sneaker Name</th>\n",
       "      <th>Profit</th>\n",
       "      <th>Buyer Region</th>\n",
       "    </tr>\n",
       "  </thead>\n",
       "  <tbody>\n",
       "    <tr>\n",
       "      <th>0</th>\n",
       "      <td>Adidas-Yeezy-Boost-350-Low-V2-Beluga</td>\n",
       "      <td>576.756522</td>\n",
       "      <td>California</td>\n",
       "    </tr>\n",
       "    <tr>\n",
       "      <th>0</th>\n",
       "      <td>Adidas-Yeezy-Boost-350-Low-V2-Beluga</td>\n",
       "      <td>655.123456</td>\n",
       "      <td>California</td>\n",
       "    </tr>\n",
       "  </tbody>\n",
       "</table>\n",
       "</div>"
      ],
      "text/plain": [
       "                           Sneaker Name      Profit Buyer Region\n",
       "0  Adidas-Yeezy-Boost-350-Low-V2-Beluga  576.756522   California\n",
       "0  Adidas-Yeezy-Boost-350-Low-V2-Beluga  655.123456   California"
      ]
     },
     "execution_count": 70,
     "metadata": {},
     "output_type": "execute_result"
    }
   ],
   "source": [
    "check_each_country_df"
   ]
  },
  {
   "cell_type": "code",
   "execution_count": 71,
   "metadata": {},
   "outputs": [],
   "source": [
    "check_each_country_df_max = check_each_country_df.sort_values('Profit',ascending = False)[0:1]"
   ]
  },
  {
   "cell_type": "code",
   "execution_count": 72,
   "metadata": {},
   "outputs": [
    {
     "data": {
      "text/html": [
       "<div>\n",
       "<style scoped>\n",
       "    .dataframe tbody tr th:only-of-type {\n",
       "        vertical-align: middle;\n",
       "    }\n",
       "\n",
       "    .dataframe tbody tr th {\n",
       "        vertical-align: top;\n",
       "    }\n",
       "\n",
       "    .dataframe thead th {\n",
       "        text-align: right;\n",
       "    }\n",
       "</style>\n",
       "<table border=\"1\" class=\"dataframe\">\n",
       "  <thead>\n",
       "    <tr style=\"text-align: right;\">\n",
       "      <th></th>\n",
       "      <th>Sneaker Name</th>\n",
       "      <th>Profit</th>\n",
       "      <th>Buyer Region</th>\n",
       "    </tr>\n",
       "  </thead>\n",
       "  <tbody>\n",
       "    <tr>\n",
       "      <th>0</th>\n",
       "      <td>Adidas-Yeezy-Boost-350-Low-V2-Beluga</td>\n",
       "      <td>655.123456</td>\n",
       "      <td>California</td>\n",
       "    </tr>\n",
       "  </tbody>\n",
       "</table>\n",
       "</div>"
      ],
      "text/plain": [
       "                           Sneaker Name      Profit Buyer Region\n",
       "0  Adidas-Yeezy-Boost-350-Low-V2-Beluga  655.123456   California"
      ]
     },
     "execution_count": 72,
     "metadata": {},
     "output_type": "execute_result"
    }
   ],
   "source": [
    "main_yeezy_df = main_yeezy_df.append(check_each_country_df_max)\n",
    "main_yeezy_df"
   ]
  },
  {
   "cell_type": "code",
   "execution_count": 73,
   "metadata": {},
   "outputs": [],
   "source": [
    "# ##template code or all the scratch work above:\n",
    "# yeezy['Sneaker Name'].unique()\n",
    "# yeezy['Buyer Region'].unique()\n",
    "# main_yeezy_df = pd.DataFrame()\n",
    "# check_each_country_df = pd.DataFrame()\n",
    "\n",
    "# test = yeezy[(yeezy['Sneaker Name'] == 'Adidas-Yeezy-Boost-350-Low-V2-Beluga') & (yeezy['Buyer Region'] == 'California')]\n",
    "# test = test.groupby('Sneaker Name').mean().reset_index()\n",
    "# test['Buyer Region'] = 'California'\n",
    "\n",
    "# test_result = test[['Sneaker Name', \"Profit\", \"Buyer Region\"]]\n",
    "# ##next\n",
    "# test_result_2 = pd.DataFrame({'Sneaker Name':['Adidas-Yeezy-Boost-350-Low-V2-Beluga'], 'Profit': [655.123456], 'Buyer Region':['California']}, columns = ['Sneaker Name', 'Profit', 'Buyer Region'])\n",
    "\n",
    "# check_each_country_df = check_each_country_df.append(test_result)\n",
    "# check_each_country_df = check_each_country_df.append(test_result_2)\n",
    "\n",
    "# check_each_country_df_max = check_each_country_df.sort_values('Profit',ascending = False)[0:1]\n",
    "# main_yeezy_df = main_yeezy_df.append(check_each_country_df_max)"
   ]
  },
  {
   "cell_type": "code",
   "execution_count": 79,
   "metadata": {},
   "outputs": [],
   "source": [
    "##template code:\n",
    "# yeezy['Sneaker Name'].unique()\n",
    "# yeezy['Buyer Region'].unique()\n",
    "\n",
    "main_yeezy_df = pd.DataFrame()\n",
    "check_each_country_df = pd.DataFrame()\n",
    "\n",
    "##iterate through the unique sneaker names and regions here:\n",
    "for i in yeezy['Sneaker Name'].unique():\n",
    "    yeezy_in_list = yeezy[yeezy['Sneaker Name'] == i]\n",
    "    for j in yeezy['Buyer Region'].unique():\n",
    "        potential_yeezy = yeezy_in_list[(yeezy_in_list['Buyer Region'] == j)]\n",
    "        potential_yeezy = potential_yeezy.groupby('Sneaker Name').mean().reset_index()\n",
    "        potential_yeezy['Buyer Region'] = j\n",
    "        yeezy_result = potential_yeezy[['Sneaker Name', \"Profit\", \"Buyer Region\"]]\n",
    "        ##append each country's results to df:\n",
    "        check_each_country_df = check_each_country_df.append(yeezy_result)\n",
    "    ##select the highest country with the max value:\n",
    "    main_yeezy_df = main_yeezy_df.append(check_each_country_df.sort_values('Profit',ascending = False)[0:1], ignore_index = True)\n",
    "    \n",
    "    "
   ]
  },
  {
   "cell_type": "code",
   "execution_count": 80,
   "metadata": {},
   "outputs": [
    {
     "data": {
      "text/html": [
       "<div>\n",
       "<style scoped>\n",
       "    .dataframe tbody tr th:only-of-type {\n",
       "        vertical-align: middle;\n",
       "    }\n",
       "\n",
       "    .dataframe tbody tr th {\n",
       "        vertical-align: top;\n",
       "    }\n",
       "\n",
       "    .dataframe thead th {\n",
       "        text-align: right;\n",
       "    }\n",
       "</style>\n",
       "<table border=\"1\" class=\"dataframe\">\n",
       "  <thead>\n",
       "    <tr style=\"text-align: right;\">\n",
       "      <th></th>\n",
       "      <th>Sneaker Name</th>\n",
       "      <th>Profit</th>\n",
       "      <th>Buyer Region</th>\n",
       "    </tr>\n",
       "  </thead>\n",
       "  <tbody>\n",
       "    <tr>\n",
       "      <th>0</th>\n",
       "      <td>Adidas-Yeezy-Boost-350-Low-V2-Beluga</td>\n",
       "      <td>823.545455</td>\n",
       "      <td>Kentucky</td>\n",
       "    </tr>\n",
       "    <tr>\n",
       "      <th>1</th>\n",
       "      <td>Adidas-Yeezy-Boost-350-Low-V2-Beluga</td>\n",
       "      <td>823.545455</td>\n",
       "      <td>Kentucky</td>\n",
       "    </tr>\n",
       "    <tr>\n",
       "      <th>2</th>\n",
       "      <td>Adidas-Yeezy-Boost-350-Low-V2-Beluga</td>\n",
       "      <td>823.545455</td>\n",
       "      <td>Kentucky</td>\n",
       "    </tr>\n",
       "    <tr>\n",
       "      <th>3</th>\n",
       "      <td>Adidas-Yeezy-Boost-350-V2-Core-Black-Red</td>\n",
       "      <td>872.000000</td>\n",
       "      <td>Alabama</td>\n",
       "    </tr>\n",
       "    <tr>\n",
       "      <th>4</th>\n",
       "      <td>Adidas-Yeezy-Boost-350-V2-Core-Black-Red</td>\n",
       "      <td>872.000000</td>\n",
       "      <td>Alabama</td>\n",
       "    </tr>\n",
       "    <tr>\n",
       "      <th>5</th>\n",
       "      <td>Adidas-Yeezy-Boost-350-V2-Core-Black-Red</td>\n",
       "      <td>872.000000</td>\n",
       "      <td>Alabama</td>\n",
       "    </tr>\n",
       "    <tr>\n",
       "      <th>6</th>\n",
       "      <td>Adidas-Yeezy-Boost-350-V2-Core-Black-Red</td>\n",
       "      <td>872.000000</td>\n",
       "      <td>Alabama</td>\n",
       "    </tr>\n",
       "    <tr>\n",
       "      <th>7</th>\n",
       "      <td>Adidas-Yeezy-Boost-350-V2-Core-Black-Red</td>\n",
       "      <td>872.000000</td>\n",
       "      <td>Alabama</td>\n",
       "    </tr>\n",
       "    <tr>\n",
       "      <th>8</th>\n",
       "      <td>Adidas-Yeezy-Boost-350-Low-Moonrock</td>\n",
       "      <td>1082.500000</td>\n",
       "      <td>Michigan</td>\n",
       "    </tr>\n",
       "    <tr>\n",
       "      <th>9</th>\n",
       "      <td>Adidas-Yeezy-Boost-350-Low-Moonrock</td>\n",
       "      <td>1082.500000</td>\n",
       "      <td>Michigan</td>\n",
       "    </tr>\n",
       "    <tr>\n",
       "      <th>10</th>\n",
       "      <td>Adidas-Yeezy-Boost-350-Low-Oxford-Tan</td>\n",
       "      <td>1270.000000</td>\n",
       "      <td>Missouri</td>\n",
       "    </tr>\n",
       "    <tr>\n",
       "      <th>11</th>\n",
       "      <td>Adidas-Yeezy-Boost-350-Low-Turtledove</td>\n",
       "      <td>1735.666667</td>\n",
       "      <td>Iowa</td>\n",
       "    </tr>\n",
       "    <tr>\n",
       "      <th>12</th>\n",
       "      <td>Adidas-Yeezy-Boost-350-Low-Turtledove</td>\n",
       "      <td>1735.666667</td>\n",
       "      <td>Iowa</td>\n",
       "    </tr>\n",
       "    <tr>\n",
       "      <th>13</th>\n",
       "      <td>Adidas-Yeezy-Boost-350-Low-Turtledove</td>\n",
       "      <td>1735.666667</td>\n",
       "      <td>Iowa</td>\n",
       "    </tr>\n",
       "    <tr>\n",
       "      <th>14</th>\n",
       "      <td>Adidas-Yeezy-Boost-350-Low-Turtledove</td>\n",
       "      <td>1735.666667</td>\n",
       "      <td>Iowa</td>\n",
       "    </tr>\n",
       "    <tr>\n",
       "      <th>15</th>\n",
       "      <td>Adidas-Yeezy-Boost-350-Low-Turtledove</td>\n",
       "      <td>1735.666667</td>\n",
       "      <td>Iowa</td>\n",
       "    </tr>\n",
       "    <tr>\n",
       "      <th>16</th>\n",
       "      <td>Adidas-Yeezy-Boost-350-Low-Turtledove</td>\n",
       "      <td>1735.666667</td>\n",
       "      <td>Iowa</td>\n",
       "    </tr>\n",
       "    <tr>\n",
       "      <th>17</th>\n",
       "      <td>Adidas-Yeezy-Boost-350-Low-Turtledove</td>\n",
       "      <td>1735.666667</td>\n",
       "      <td>Iowa</td>\n",
       "    </tr>\n",
       "    <tr>\n",
       "      <th>18</th>\n",
       "      <td>Adidas-Yeezy-Boost-350-Low-Turtledove</td>\n",
       "      <td>1735.666667</td>\n",
       "      <td>Iowa</td>\n",
       "    </tr>\n",
       "    <tr>\n",
       "      <th>19</th>\n",
       "      <td>Adidas-Yeezy-Boost-350-Low-Turtledove</td>\n",
       "      <td>1735.666667</td>\n",
       "      <td>Iowa</td>\n",
       "    </tr>\n",
       "  </tbody>\n",
       "</table>\n",
       "</div>"
      ],
      "text/plain": [
       "                                Sneaker Name       Profit Buyer Region\n",
       "0       Adidas-Yeezy-Boost-350-Low-V2-Beluga   823.545455     Kentucky\n",
       "1       Adidas-Yeezy-Boost-350-Low-V2-Beluga   823.545455     Kentucky\n",
       "2       Adidas-Yeezy-Boost-350-Low-V2-Beluga   823.545455     Kentucky\n",
       "3   Adidas-Yeezy-Boost-350-V2-Core-Black-Red   872.000000      Alabama\n",
       "4   Adidas-Yeezy-Boost-350-V2-Core-Black-Red   872.000000      Alabama\n",
       "5   Adidas-Yeezy-Boost-350-V2-Core-Black-Red   872.000000      Alabama\n",
       "6   Adidas-Yeezy-Boost-350-V2-Core-Black-Red   872.000000      Alabama\n",
       "7   Adidas-Yeezy-Boost-350-V2-Core-Black-Red   872.000000      Alabama\n",
       "8        Adidas-Yeezy-Boost-350-Low-Moonrock  1082.500000     Michigan\n",
       "9        Adidas-Yeezy-Boost-350-Low-Moonrock  1082.500000     Michigan\n",
       "10     Adidas-Yeezy-Boost-350-Low-Oxford-Tan  1270.000000     Missouri\n",
       "11     Adidas-Yeezy-Boost-350-Low-Turtledove  1735.666667         Iowa\n",
       "12     Adidas-Yeezy-Boost-350-Low-Turtledove  1735.666667         Iowa\n",
       "13     Adidas-Yeezy-Boost-350-Low-Turtledove  1735.666667         Iowa\n",
       "14     Adidas-Yeezy-Boost-350-Low-Turtledove  1735.666667         Iowa\n",
       "15     Adidas-Yeezy-Boost-350-Low-Turtledove  1735.666667         Iowa\n",
       "16     Adidas-Yeezy-Boost-350-Low-Turtledove  1735.666667         Iowa\n",
       "17     Adidas-Yeezy-Boost-350-Low-Turtledove  1735.666667         Iowa\n",
       "18     Adidas-Yeezy-Boost-350-Low-Turtledove  1735.666667         Iowa\n",
       "19     Adidas-Yeezy-Boost-350-Low-Turtledove  1735.666667         Iowa"
      ]
     },
     "execution_count": 80,
     "metadata": {},
     "output_type": "execute_result"
    }
   ],
   "source": [
    "main_yeezy_df"
   ]
  },
  {
   "cell_type": "markdown",
   "metadata": {},
   "source": [
    "#### 5. Hypothesis Testing: A/B testing"
   ]
  },
  {
   "cell_type": "markdown",
   "metadata": {},
   "source": [
    "Random sample of sneakers. Compare:\n",
    "\n",
    "(A) Profit of sneakers from Yeezy's\n",
    "\n",
    "(B) Profit of sneakers from Off-whites\n",
    "\n",
    "Question: Could the difference be due to chance alone?\n",
    "Or are the profits from off-whites from a distribution with a smaller average?\n",
    "\n",
    "##### Null Hypothesis: \n",
    "In the population, the distributions of the profits of the yeezy's and off-whites in the two groups are the same. (They are different in the sample just due to chance).\n",
    "\n",
    "##### Alternative Hypothesis:\n",
    "In the population, the profits of the yeezy's are, on average, lower than the profits of the off-whites.\n",
    "\n",
    "Group A: yeezy's profits\n",
    "\n",
    "Group B: off-whites profits\n",
    "\n",
    "Statistic: Difference between average profits  (Note: Small values of this statistic favor the alternative)\n",
    "\n",
    "Group A average - Group B average\n",
    "\n",
    "If the null is true, all rearrangements of the profits among the two groups are equally likely\n",
    "\n",
    "##### Plan:\n",
    "○ Shuffle all the profits\n",
    "\n",
    "○ Assign some to “Group A” and the rest to “Group B”, maintaining the two sample sizes\n",
    "\n",
    "○ Find the difference between the averages of the two shuffled groups\n",
    "\n",
    "○ Repeat"
   ]
  },
  {
   "cell_type": "code",
   "execution_count": 87,
   "metadata": {},
   "outputs": [
    {
     "data": {
      "text/html": [
       "<div>\n",
       "<style scoped>\n",
       "    .dataframe tbody tr th:only-of-type {\n",
       "        vertical-align: middle;\n",
       "    }\n",
       "\n",
       "    .dataframe tbody tr th {\n",
       "        vertical-align: top;\n",
       "    }\n",
       "\n",
       "    .dataframe thead th {\n",
       "        text-align: right;\n",
       "    }\n",
       "</style>\n",
       "<table border=\"1\" class=\"dataframe\">\n",
       "  <thead>\n",
       "    <tr style=\"text-align: right;\">\n",
       "      <th></th>\n",
       "      <th>Order Date</th>\n",
       "      <th>Brand</th>\n",
       "      <th>Sneaker Name</th>\n",
       "      <th>Sale Price</th>\n",
       "      <th>Retail Price</th>\n",
       "      <th>Profit</th>\n",
       "      <th>Release Date</th>\n",
       "      <th>Shoe Size</th>\n",
       "      <th>Buyer Region</th>\n",
       "    </tr>\n",
       "  </thead>\n",
       "  <tbody>\n",
       "    <tr>\n",
       "      <th>0</th>\n",
       "      <td>2017-09-01</td>\n",
       "      <td>Yeezy</td>\n",
       "      <td>Adidas-Yeezy-Boost-350-Low-V2-Beluga</td>\n",
       "      <td>1097.0</td>\n",
       "      <td>220</td>\n",
       "      <td>877.0</td>\n",
       "      <td>2016-09-24</td>\n",
       "      <td>11.0</td>\n",
       "      <td>California</td>\n",
       "    </tr>\n",
       "    <tr>\n",
       "      <th>1</th>\n",
       "      <td>2017-09-01</td>\n",
       "      <td>Yeezy</td>\n",
       "      <td>Adidas-Yeezy-Boost-350-V2-Core-Black-Copper</td>\n",
       "      <td>685.0</td>\n",
       "      <td>220</td>\n",
       "      <td>465.0</td>\n",
       "      <td>2016-11-23</td>\n",
       "      <td>11.0</td>\n",
       "      <td>California</td>\n",
       "    </tr>\n",
       "    <tr>\n",
       "      <th>2</th>\n",
       "      <td>2017-09-01</td>\n",
       "      <td>Yeezy</td>\n",
       "      <td>Adidas-Yeezy-Boost-350-V2-Core-Black-Green</td>\n",
       "      <td>690.0</td>\n",
       "      <td>220</td>\n",
       "      <td>470.0</td>\n",
       "      <td>2016-11-23</td>\n",
       "      <td>11.0</td>\n",
       "      <td>California</td>\n",
       "    </tr>\n",
       "    <tr>\n",
       "      <th>3</th>\n",
       "      <td>2017-09-01</td>\n",
       "      <td>Yeezy</td>\n",
       "      <td>Adidas-Yeezy-Boost-350-V2-Core-Black-Red</td>\n",
       "      <td>1075.0</td>\n",
       "      <td>220</td>\n",
       "      <td>855.0</td>\n",
       "      <td>2016-11-23</td>\n",
       "      <td>11.5</td>\n",
       "      <td>Kentucky</td>\n",
       "    </tr>\n",
       "    <tr>\n",
       "      <th>4</th>\n",
       "      <td>2017-09-01</td>\n",
       "      <td>Yeezy</td>\n",
       "      <td>Adidas-Yeezy-Boost-350-V2-Core-Black-Red-2017</td>\n",
       "      <td>828.0</td>\n",
       "      <td>220</td>\n",
       "      <td>608.0</td>\n",
       "      <td>2017-02-11</td>\n",
       "      <td>11.0</td>\n",
       "      <td>Rhode Island</td>\n",
       "    </tr>\n",
       "  </tbody>\n",
       "</table>\n",
       "</div>"
      ],
      "text/plain": [
       "  Order Date  Brand                                   Sneaker Name  \\\n",
       "0 2017-09-01  Yeezy           Adidas-Yeezy-Boost-350-Low-V2-Beluga   \n",
       "1 2017-09-01  Yeezy    Adidas-Yeezy-Boost-350-V2-Core-Black-Copper   \n",
       "2 2017-09-01  Yeezy     Adidas-Yeezy-Boost-350-V2-Core-Black-Green   \n",
       "3 2017-09-01  Yeezy       Adidas-Yeezy-Boost-350-V2-Core-Black-Red   \n",
       "4 2017-09-01  Yeezy  Adidas-Yeezy-Boost-350-V2-Core-Black-Red-2017   \n",
       "\n",
       "   Sale Price  Retail Price  Profit Release Date  Shoe Size  Buyer Region  \n",
       "0      1097.0           220   877.0   2016-09-24       11.0    California  \n",
       "1       685.0           220   465.0   2016-11-23       11.0    California  \n",
       "2       690.0           220   470.0   2016-11-23       11.0    California  \n",
       "3      1075.0           220   855.0   2016-11-23       11.5      Kentucky  \n",
       "4       828.0           220   608.0   2017-02-11       11.0  Rhode Island  "
      ]
     },
     "execution_count": 87,
     "metadata": {},
     "output_type": "execute_result"
    }
   ],
   "source": [
    "sneakerdata.head()"
   ]
  },
  {
   "cell_type": "code",
   "execution_count": 88,
   "metadata": {},
   "outputs": [],
   "source": [
    "yeezy_off_white = sneakerdata[['Brand','Profit']]"
   ]
  },
  {
   "cell_type": "code",
   "execution_count": 92,
   "metadata": {
    "scrolled": true
   },
   "outputs": [
    {
     "data": {
      "text/html": [
       "<div>\n",
       "<style scoped>\n",
       "    .dataframe tbody tr th:only-of-type {\n",
       "        vertical-align: middle;\n",
       "    }\n",
       "\n",
       "    .dataframe tbody tr th {\n",
       "        vertical-align: top;\n",
       "    }\n",
       "\n",
       "    .dataframe thead th {\n",
       "        text-align: right;\n",
       "    }\n",
       "</style>\n",
       "<table border=\"1\" class=\"dataframe\">\n",
       "  <thead>\n",
       "    <tr style=\"text-align: right;\">\n",
       "      <th></th>\n",
       "      <th>Brand</th>\n",
       "      <th>Profit</th>\n",
       "    </tr>\n",
       "  </thead>\n",
       "  <tbody>\n",
       "    <tr>\n",
       "      <th>0</th>\n",
       "      <td>Off-White</td>\n",
       "      <td>27794</td>\n",
       "    </tr>\n",
       "    <tr>\n",
       "      <th>1</th>\n",
       "      <td>Yeezy</td>\n",
       "      <td>72162</td>\n",
       "    </tr>\n",
       "  </tbody>\n",
       "</table>\n",
       "</div>"
      ],
      "text/plain": [
       "       Brand  Profit\n",
       "0  Off-White   27794\n",
       "1      Yeezy   72162"
      ]
     },
     "execution_count": 92,
     "metadata": {},
     "output_type": "execute_result"
    }
   ],
   "source": [
    "yeezy_off_white.groupby(['Brand']).count().reset_index()"
   ]
  },
  {
   "cell_type": "code",
   "execution_count": 108,
   "metadata": {},
   "outputs": [],
   "source": [
    "average_profits = yeezy_off_white.groupby(['Brand']).mean().reset_index()"
   ]
  },
  {
   "cell_type": "code",
   "execution_count": 109,
   "metadata": {
    "scrolled": true
   },
   "outputs": [
    {
     "data": {
      "text/html": [
       "<div>\n",
       "<style scoped>\n",
       "    .dataframe tbody tr th:only-of-type {\n",
       "        vertical-align: middle;\n",
       "    }\n",
       "\n",
       "    .dataframe tbody tr th {\n",
       "        vertical-align: top;\n",
       "    }\n",
       "\n",
       "    .dataframe thead th {\n",
       "        text-align: right;\n",
       "    }\n",
       "</style>\n",
       "<table border=\"1\" class=\"dataframe\">\n",
       "  <thead>\n",
       "    <tr style=\"text-align: right;\">\n",
       "      <th></th>\n",
       "      <th>Brand</th>\n",
       "      <th>Profit</th>\n",
       "    </tr>\n",
       "  </thead>\n",
       "  <tbody>\n",
       "    <tr>\n",
       "      <th>0</th>\n",
       "      <td>Off-White</td>\n",
       "      <td>492.102943</td>\n",
       "    </tr>\n",
       "    <tr>\n",
       "      <th>1</th>\n",
       "      <td>Yeezy</td>\n",
       "      <td>140.158730</td>\n",
       "    </tr>\n",
       "  </tbody>\n",
       "</table>\n",
       "</div>"
      ],
      "text/plain": [
       "       Brand      Profit\n",
       "0  Off-White  492.102943\n",
       "1      Yeezy  140.158730"
      ]
     },
     "execution_count": 109,
     "metadata": {},
     "output_type": "execute_result"
    }
   ],
   "source": [
    "average_profits"
   ]
  },
  {
   "cell_type": "code",
   "execution_count": 110,
   "metadata": {},
   "outputs": [
    {
     "data": {
      "text/plain": [
       "-351.94421309530514"
      ]
     },
     "execution_count": 110,
     "metadata": {},
     "output_type": "execute_result"
    }
   ],
   "source": [
    "average_profits['Profit'][1] - average_profits['Profit'][0]"
   ]
  },
  {
   "cell_type": "code",
   "execution_count": 116,
   "metadata": {},
   "outputs": [
    {
     "data": {
      "text/html": [
       "<div>\n",
       "<style scoped>\n",
       "    .dataframe tbody tr th:only-of-type {\n",
       "        vertical-align: middle;\n",
       "    }\n",
       "\n",
       "    .dataframe tbody tr th {\n",
       "        vertical-align: top;\n",
       "    }\n",
       "\n",
       "    .dataframe thead th {\n",
       "        text-align: right;\n",
       "    }\n",
       "</style>\n",
       "<table border=\"1\" class=\"dataframe\">\n",
       "  <thead>\n",
       "    <tr style=\"text-align: right;\">\n",
       "      <th></th>\n",
       "      <th>Profit</th>\n",
       "    </tr>\n",
       "  </thead>\n",
       "  <tbody>\n",
       "    <tr>\n",
       "      <th>0</th>\n",
       "      <td>877.0</td>\n",
       "    </tr>\n",
       "    <tr>\n",
       "      <th>1</th>\n",
       "      <td>465.0</td>\n",
       "    </tr>\n",
       "    <tr>\n",
       "      <th>2</th>\n",
       "      <td>470.0</td>\n",
       "    </tr>\n",
       "    <tr>\n",
       "      <th>3</th>\n",
       "      <td>855.0</td>\n",
       "    </tr>\n",
       "    <tr>\n",
       "      <th>4</th>\n",
       "      <td>608.0</td>\n",
       "    </tr>\n",
       "    <tr>\n",
       "      <th>...</th>\n",
       "      <td>...</td>\n",
       "    </tr>\n",
       "    <tr>\n",
       "      <th>99951</th>\n",
       "      <td>345.0</td>\n",
       "    </tr>\n",
       "    <tr>\n",
       "      <th>99952</th>\n",
       "      <td>378.0</td>\n",
       "    </tr>\n",
       "    <tr>\n",
       "      <th>99953</th>\n",
       "      <td>385.0</td>\n",
       "    </tr>\n",
       "    <tr>\n",
       "      <th>99954</th>\n",
       "      <td>430.0</td>\n",
       "    </tr>\n",
       "    <tr>\n",
       "      <th>99955</th>\n",
       "      <td>420.0</td>\n",
       "    </tr>\n",
       "  </tbody>\n",
       "</table>\n",
       "<p>99956 rows × 1 columns</p>\n",
       "</div>"
      ],
      "text/plain": [
       "       Profit\n",
       "0       877.0\n",
       "1       465.0\n",
       "2       470.0\n",
       "3       855.0\n",
       "4       608.0\n",
       "...       ...\n",
       "99951   345.0\n",
       "99952   378.0\n",
       "99953   385.0\n",
       "99954   430.0\n",
       "99955   420.0\n",
       "\n",
       "[99956 rows x 1 columns]"
      ]
     },
     "execution_count": 116,
     "metadata": {},
     "output_type": "execute_result"
    }
   ],
   "source": [
    "profits = sneakerdata[['Profit']]\n",
    "profits"
   ]
  },
  {
   "cell_type": "code",
   "execution_count": 119,
   "metadata": {},
   "outputs": [
    {
     "data": {
      "text/html": [
       "<div>\n",
       "<style scoped>\n",
       "    .dataframe tbody tr th:only-of-type {\n",
       "        vertical-align: middle;\n",
       "    }\n",
       "\n",
       "    .dataframe tbody tr th {\n",
       "        vertical-align: top;\n",
       "    }\n",
       "\n",
       "    .dataframe thead th {\n",
       "        text-align: right;\n",
       "    }\n",
       "</style>\n",
       "<table border=\"1\" class=\"dataframe\">\n",
       "  <thead>\n",
       "    <tr style=\"text-align: right;\">\n",
       "      <th></th>\n",
       "      <th>Profit</th>\n",
       "    </tr>\n",
       "  </thead>\n",
       "  <tbody>\n",
       "    <tr>\n",
       "      <th>63988</th>\n",
       "      <td>10.0</td>\n",
       "    </tr>\n",
       "    <tr>\n",
       "      <th>62864</th>\n",
       "      <td>621.0</td>\n",
       "    </tr>\n",
       "    <tr>\n",
       "      <th>66217</th>\n",
       "      <td>20.0</td>\n",
       "    </tr>\n",
       "    <tr>\n",
       "      <th>38983</th>\n",
       "      <td>252.0</td>\n",
       "    </tr>\n",
       "    <tr>\n",
       "      <th>24958</th>\n",
       "      <td>179.0</td>\n",
       "    </tr>\n",
       "    <tr>\n",
       "      <th>...</th>\n",
       "      <td>...</td>\n",
       "    </tr>\n",
       "    <tr>\n",
       "      <th>9224</th>\n",
       "      <td>140.0</td>\n",
       "    </tr>\n",
       "    <tr>\n",
       "      <th>94500</th>\n",
       "      <td>415.0</td>\n",
       "    </tr>\n",
       "    <tr>\n",
       "      <th>8708</th>\n",
       "      <td>130.0</td>\n",
       "    </tr>\n",
       "    <tr>\n",
       "      <th>34171</th>\n",
       "      <td>70.0</td>\n",
       "    </tr>\n",
       "    <tr>\n",
       "      <th>5682</th>\n",
       "      <td>141.0</td>\n",
       "    </tr>\n",
       "  </tbody>\n",
       "</table>\n",
       "<p>99956 rows × 1 columns</p>\n",
       "</div>"
      ],
      "text/plain": [
       "       Profit\n",
       "63988    10.0\n",
       "62864   621.0\n",
       "66217    20.0\n",
       "38983   252.0\n",
       "24958   179.0\n",
       "...       ...\n",
       "9224    140.0\n",
       "94500   415.0\n",
       "8708    130.0\n",
       "34171    70.0\n",
       "5682    141.0\n",
       "\n",
       "[99956 rows x 1 columns]"
      ]
     },
     "execution_count": 119,
     "metadata": {},
     "output_type": "execute_result"
    }
   ],
   "source": [
    "shuffled_profits = profits.sample(frac = 1, replace = False)\n",
    "shuffled_profits"
   ]
  },
  {
   "cell_type": "code",
   "execution_count": 120,
   "metadata": {},
   "outputs": [
    {
     "data": {
      "text/html": [
       "<div>\n",
       "<style scoped>\n",
       "    .dataframe tbody tr th:only-of-type {\n",
       "        vertical-align: middle;\n",
       "    }\n",
       "\n",
       "    .dataframe tbody tr th {\n",
       "        vertical-align: top;\n",
       "    }\n",
       "\n",
       "    .dataframe thead th {\n",
       "        text-align: right;\n",
       "    }\n",
       "</style>\n",
       "<table border=\"1\" class=\"dataframe\">\n",
       "  <thead>\n",
       "    <tr style=\"text-align: right;\">\n",
       "      <th></th>\n",
       "      <th>Brand</th>\n",
       "    </tr>\n",
       "  </thead>\n",
       "  <tbody>\n",
       "    <tr>\n",
       "      <th>0</th>\n",
       "      <td>Yeezy</td>\n",
       "    </tr>\n",
       "    <tr>\n",
       "      <th>1</th>\n",
       "      <td>Yeezy</td>\n",
       "    </tr>\n",
       "    <tr>\n",
       "      <th>2</th>\n",
       "      <td>Yeezy</td>\n",
       "    </tr>\n",
       "    <tr>\n",
       "      <th>3</th>\n",
       "      <td>Yeezy</td>\n",
       "    </tr>\n",
       "    <tr>\n",
       "      <th>4</th>\n",
       "      <td>Yeezy</td>\n",
       "    </tr>\n",
       "    <tr>\n",
       "      <th>...</th>\n",
       "      <td>...</td>\n",
       "    </tr>\n",
       "    <tr>\n",
       "      <th>99951</th>\n",
       "      <td>Yeezy</td>\n",
       "    </tr>\n",
       "    <tr>\n",
       "      <th>99952</th>\n",
       "      <td>Yeezy</td>\n",
       "    </tr>\n",
       "    <tr>\n",
       "      <th>99953</th>\n",
       "      <td>Yeezy</td>\n",
       "    </tr>\n",
       "    <tr>\n",
       "      <th>99954</th>\n",
       "      <td>Yeezy</td>\n",
       "    </tr>\n",
       "    <tr>\n",
       "      <th>99955</th>\n",
       "      <td>Yeezy</td>\n",
       "    </tr>\n",
       "  </tbody>\n",
       "</table>\n",
       "<p>99956 rows × 1 columns</p>\n",
       "</div>"
      ],
      "text/plain": [
       "       Brand\n",
       "0      Yeezy\n",
       "1      Yeezy\n",
       "2      Yeezy\n",
       "3      Yeezy\n",
       "4      Yeezy\n",
       "...      ...\n",
       "99951  Yeezy\n",
       "99952  Yeezy\n",
       "99953  Yeezy\n",
       "99954  Yeezy\n",
       "99955  Yeezy\n",
       "\n",
       "[99956 rows x 1 columns]"
      ]
     },
     "execution_count": 120,
     "metadata": {},
     "output_type": "execute_result"
    }
   ],
   "source": [
    "groups = sneakerdata[[('Brand')]]\n",
    "groups"
   ]
  },
  {
   "cell_type": "code",
   "execution_count": 140,
   "metadata": {},
   "outputs": [
    {
     "name": "stderr",
     "output_type": "stream",
     "text": [
      "C:\\Users\\timla\\Anaconda3\\lib\\site-packages\\ipykernel_launcher.py:1: SettingWithCopyWarning: \n",
      "A value is trying to be set on a copy of a slice from a DataFrame.\n",
      "Try using .loc[row_indexer,col_indexer] = value instead\n",
      "\n",
      "See the caveats in the documentation: http://pandas.pydata.org/pandas-docs/stable/user_guide/indexing.html#returning-a-view-versus-a-copy\n",
      "  \"\"\"Entry point for launching an IPython kernel.\n"
     ]
    }
   ],
   "source": [
    "groups['Shuffled Profits'] = pd.Series(shuffled_profits['Profit'])"
   ]
  },
  {
   "cell_type": "code",
   "execution_count": 141,
   "metadata": {},
   "outputs": [],
   "source": [
    "simulated_sample = groups"
   ]
  },
  {
   "cell_type": "code",
   "execution_count": 143,
   "metadata": {
    "scrolled": true
   },
   "outputs": [
    {
     "data": {
      "text/html": [
       "<div>\n",
       "<style scoped>\n",
       "    .dataframe tbody tr th:only-of-type {\n",
       "        vertical-align: middle;\n",
       "    }\n",
       "\n",
       "    .dataframe tbody tr th {\n",
       "        vertical-align: top;\n",
       "    }\n",
       "\n",
       "    .dataframe thead th {\n",
       "        text-align: right;\n",
       "    }\n",
       "</style>\n",
       "<table border=\"1\" class=\"dataframe\">\n",
       "  <thead>\n",
       "    <tr style=\"text-align: right;\">\n",
       "      <th></th>\n",
       "      <th>Brand</th>\n",
       "      <th>Shuffled Profits</th>\n",
       "    </tr>\n",
       "  </thead>\n",
       "  <tbody>\n",
       "    <tr>\n",
       "      <th>0</th>\n",
       "      <td>Yeezy</td>\n",
       "      <td>877.0</td>\n",
       "    </tr>\n",
       "    <tr>\n",
       "      <th>1</th>\n",
       "      <td>Yeezy</td>\n",
       "      <td>465.0</td>\n",
       "    </tr>\n",
       "    <tr>\n",
       "      <th>2</th>\n",
       "      <td>Yeezy</td>\n",
       "      <td>470.0</td>\n",
       "    </tr>\n",
       "    <tr>\n",
       "      <th>3</th>\n",
       "      <td>Yeezy</td>\n",
       "      <td>855.0</td>\n",
       "    </tr>\n",
       "    <tr>\n",
       "      <th>4</th>\n",
       "      <td>Yeezy</td>\n",
       "      <td>608.0</td>\n",
       "    </tr>\n",
       "    <tr>\n",
       "      <th>...</th>\n",
       "      <td>...</td>\n",
       "      <td>...</td>\n",
       "    </tr>\n",
       "    <tr>\n",
       "      <th>99951</th>\n",
       "      <td>Yeezy</td>\n",
       "      <td>345.0</td>\n",
       "    </tr>\n",
       "    <tr>\n",
       "      <th>99952</th>\n",
       "      <td>Yeezy</td>\n",
       "      <td>378.0</td>\n",
       "    </tr>\n",
       "    <tr>\n",
       "      <th>99953</th>\n",
       "      <td>Yeezy</td>\n",
       "      <td>385.0</td>\n",
       "    </tr>\n",
       "    <tr>\n",
       "      <th>99954</th>\n",
       "      <td>Yeezy</td>\n",
       "      <td>430.0</td>\n",
       "    </tr>\n",
       "    <tr>\n",
       "      <th>99955</th>\n",
       "      <td>Yeezy</td>\n",
       "      <td>420.0</td>\n",
       "    </tr>\n",
       "  </tbody>\n",
       "</table>\n",
       "<p>99956 rows × 2 columns</p>\n",
       "</div>"
      ],
      "text/plain": [
       "       Brand  Shuffled Profits\n",
       "0      Yeezy             877.0\n",
       "1      Yeezy             465.0\n",
       "2      Yeezy             470.0\n",
       "3      Yeezy             855.0\n",
       "4      Yeezy             608.0\n",
       "...      ...               ...\n",
       "99951  Yeezy             345.0\n",
       "99952  Yeezy             378.0\n",
       "99953  Yeezy             385.0\n",
       "99954  Yeezy             430.0\n",
       "99955  Yeezy             420.0\n",
       "\n",
       "[99956 rows x 2 columns]"
      ]
     },
     "execution_count": 143,
     "metadata": {},
     "output_type": "execute_result"
    }
   ],
   "source": [
    "simulated_sample[['Brand', 'Shuffled Profits']]"
   ]
  },
  {
   "cell_type": "code",
   "execution_count": 157,
   "metadata": {},
   "outputs": [],
   "source": [
    "simulated_sample = pd.DataFrame({'Brand':sneakerdata['Brand'], 'Shuffled Profits': shuffled_profits['Profit']})"
   ]
  },
  {
   "cell_type": "code",
   "execution_count": 160,
   "metadata": {},
   "outputs": [
    {
     "data": {
      "text/html": [
       "<div>\n",
       "<style scoped>\n",
       "    .dataframe tbody tr th:only-of-type {\n",
       "        vertical-align: middle;\n",
       "    }\n",
       "\n",
       "    .dataframe tbody tr th {\n",
       "        vertical-align: top;\n",
       "    }\n",
       "\n",
       "    .dataframe thead th {\n",
       "        text-align: right;\n",
       "    }\n",
       "</style>\n",
       "<table border=\"1\" class=\"dataframe\">\n",
       "  <thead>\n",
       "    <tr style=\"text-align: right;\">\n",
       "      <th></th>\n",
       "      <th>Brand</th>\n",
       "      <th>Shuffled Profits</th>\n",
       "    </tr>\n",
       "  </thead>\n",
       "  <tbody>\n",
       "    <tr>\n",
       "      <th>0</th>\n",
       "      <td>Yeezy</td>\n",
       "      <td>877.0</td>\n",
       "    </tr>\n",
       "    <tr>\n",
       "      <th>1</th>\n",
       "      <td>Yeezy</td>\n",
       "      <td>465.0</td>\n",
       "    </tr>\n",
       "    <tr>\n",
       "      <th>2</th>\n",
       "      <td>Yeezy</td>\n",
       "      <td>470.0</td>\n",
       "    </tr>\n",
       "    <tr>\n",
       "      <th>3</th>\n",
       "      <td>Yeezy</td>\n",
       "      <td>855.0</td>\n",
       "    </tr>\n",
       "    <tr>\n",
       "      <th>4</th>\n",
       "      <td>Yeezy</td>\n",
       "      <td>608.0</td>\n",
       "    </tr>\n",
       "    <tr>\n",
       "      <th>...</th>\n",
       "      <td>...</td>\n",
       "      <td>...</td>\n",
       "    </tr>\n",
       "    <tr>\n",
       "      <th>99951</th>\n",
       "      <td>Yeezy</td>\n",
       "      <td>345.0</td>\n",
       "    </tr>\n",
       "    <tr>\n",
       "      <th>99952</th>\n",
       "      <td>Yeezy</td>\n",
       "      <td>378.0</td>\n",
       "    </tr>\n",
       "    <tr>\n",
       "      <th>99953</th>\n",
       "      <td>Yeezy</td>\n",
       "      <td>385.0</td>\n",
       "    </tr>\n",
       "    <tr>\n",
       "      <th>99954</th>\n",
       "      <td>Yeezy</td>\n",
       "      <td>430.0</td>\n",
       "    </tr>\n",
       "    <tr>\n",
       "      <th>99955</th>\n",
       "      <td>Yeezy</td>\n",
       "      <td>420.0</td>\n",
       "    </tr>\n",
       "  </tbody>\n",
       "</table>\n",
       "<p>99956 rows × 2 columns</p>\n",
       "</div>"
      ],
      "text/plain": [
       "       Brand  Shuffled Profits\n",
       "0      Yeezy             877.0\n",
       "1      Yeezy             465.0\n",
       "2      Yeezy             470.0\n",
       "3      Yeezy             855.0\n",
       "4      Yeezy             608.0\n",
       "...      ...               ...\n",
       "99951  Yeezy             345.0\n",
       "99952  Yeezy             378.0\n",
       "99953  Yeezy             385.0\n",
       "99954  Yeezy             430.0\n",
       "99955  Yeezy             420.0\n",
       "\n",
       "[99956 rows x 2 columns]"
      ]
     },
     "execution_count": 160,
     "metadata": {},
     "output_type": "execute_result"
    }
   ],
   "source": [
    "simulated_sample"
   ]
  },
  {
   "cell_type": "code",
   "execution_count": 146,
   "metadata": {},
   "outputs": [
    {
     "data": {
      "text/html": [
       "<div>\n",
       "<style scoped>\n",
       "    .dataframe tbody tr th:only-of-type {\n",
       "        vertical-align: middle;\n",
       "    }\n",
       "\n",
       "    .dataframe tbody tr th {\n",
       "        vertical-align: top;\n",
       "    }\n",
       "\n",
       "    .dataframe thead th {\n",
       "        text-align: right;\n",
       "    }\n",
       "</style>\n",
       "<table border=\"1\" class=\"dataframe\">\n",
       "  <thead>\n",
       "    <tr style=\"text-align: right;\">\n",
       "      <th></th>\n",
       "      <th>Brand</th>\n",
       "      <th>Shuffled Profits</th>\n",
       "    </tr>\n",
       "  </thead>\n",
       "  <tbody>\n",
       "    <tr>\n",
       "      <th>0</th>\n",
       "      <td>Off-White</td>\n",
       "      <td>492.102943</td>\n",
       "    </tr>\n",
       "    <tr>\n",
       "      <th>1</th>\n",
       "      <td>Yeezy</td>\n",
       "      <td>140.158730</td>\n",
       "    </tr>\n",
       "  </tbody>\n",
       "</table>\n",
       "</div>"
      ],
      "text/plain": [
       "       Brand  Shuffled Profits\n",
       "0  Off-White        492.102943\n",
       "1      Yeezy        140.158730"
      ]
     },
     "execution_count": 146,
     "metadata": {},
     "output_type": "execute_result"
    }
   ],
   "source": [
    "grouped_by_average = simulated_sample.groupby('Brand').mean().reset_index()\n",
    "grouped_by_average[['Brand','Shuffled Profits']]"
   ]
  },
  {
   "cell_type": "code",
   "execution_count": 147,
   "metadata": {},
   "outputs": [
    {
     "data": {
      "text/plain": [
       "-351.94421309530514"
      ]
     },
     "execution_count": 147,
     "metadata": {},
     "output_type": "execute_result"
    }
   ],
   "source": [
    "grouped_by_average['Shuffled Profits'][1] - grouped_by_average['Shuffled Profits'][0]"
   ]
  },
  {
   "cell_type": "code",
   "execution_count": 161,
   "metadata": {
    "scrolled": true
   },
   "outputs": [],
   "source": [
    "simulated_stats = make_array()\n",
    "\n",
    "for i in np.arange(5000):\n",
    "    shuffled_profits = profits.sample(frac = 1, replace = False)\n",
    "    simulated_sample = pd.DataFrame({'Brand':sneakerdata['Brand'], 'Shuffled Profits': shuffled_profits['Profit']})\n",
    "    grouped_by_average = simulated_sample.groupby('Brand').mean().reset_index()\n",
    "    difference = grouped_by_average['Shuffled Profits'][1] - grouped_by_average['Shuffled Profits'][0]\n",
    "    simulated_stats = np.append(simulated_stats, difference)"
   ]
  },
  {
   "cell_type": "code",
   "execution_count": 162,
   "metadata": {},
   "outputs": [
    {
     "data": {
      "text/plain": [
       "array([-351.9442131, -351.9442131, -351.9442131, ..., -351.9442131,\n",
       "       -351.9442131, -351.9442131])"
      ]
     },
     "execution_count": 162,
     "metadata": {},
     "output_type": "execute_result"
    }
   ],
   "source": [
    "simulated_stats"
   ]
  },
  {
   "cell_type": "markdown",
   "metadata": {},
   "source": [
    "Some ideas: Hypothesis test maybe for profit on the different type of brand?\n",
    "\n",
    "P.S. Add my datascienceportfoliio tab to my github website."
   ]
  },
  {
   "cell_type": "code",
   "execution_count": null,
   "metadata": {},
   "outputs": [],
   "source": []
  }
 ],
 "metadata": {
  "kernelspec": {
   "display_name": "Python 3",
   "language": "python",
   "name": "python3"
  },
  "language_info": {
   "codemirror_mode": {
    "name": "ipython",
    "version": 3
   },
   "file_extension": ".py",
   "mimetype": "text/x-python",
   "name": "python",
   "nbconvert_exporter": "python",
   "pygments_lexer": "ipython3",
   "version": "3.6.5"
  }
 },
 "nbformat": 4,
 "nbformat_minor": 2
}
