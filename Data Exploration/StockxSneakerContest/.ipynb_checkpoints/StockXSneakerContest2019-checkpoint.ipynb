{
 "cells": [
  {
   "cell_type": "code",
   "execution_count": 1,
   "metadata": {},
   "outputs": [],
   "source": [
    "#Imports\n",
    "from datascience import *\n",
    "import pandas as pd\n",
    "import seaborn as sns\n",
    "import numpy as np\n",
    "import matplotlib.pyplot as plt\n",
    "import os\n",
    "%matplotlib inline"
   ]
  },
  {
   "cell_type": "markdown",
   "metadata": {},
   "source": [
    "https://stockx.com/news/the-2019-data-contest/\n",
    "\n",
    "The data in this sheet consist of a random sample of all U.S. Off-White x Nike and Yeezy 350 sales from between 9/1/2017 and 2/13/2019. \n",
    "\n",
    "To create this sample, StockX took a random, fixed percentage of their sales (X%) for each colorway, on each day, since September 2017. So, for each day the Off-White Jordan 1 was on the market, they randomly selected X% of its sale from each day. (It’s not important to know what X is; all that matters is that it’s a random sample, and that the same fixed X% of sales was selected from every day, for every sneaker).\n",
    "\n",
    "They've included 8 variables for us to work with: Order Date, Brand, Sneaker Name, Sale Price ($), Retail Price ($), Release Date, Shoe Size, and Buyer State (the U.S. state the buyer shipped to). You can use whatever variables you want in the analysis; you can use 1 variable, or you can use all 8. And remember, every row in the spreadsheet represents an individual StockX sale. There are no averages or order counts; this is just a random sample of daily sales data."
   ]
  },
  {
   "cell_type": "code",
   "execution_count": 2,
   "metadata": {},
   "outputs": [],
   "source": [
    "sneakerdata = pd.read_excel('StockX-Data-Contest-2019-3.xlsx')"
   ]
  },
  {
   "cell_type": "code",
   "execution_count": 3,
   "metadata": {},
   "outputs": [
    {
     "data": {
      "text/plain": [
       "(99956, 8)"
      ]
     },
     "execution_count": 3,
     "metadata": {},
     "output_type": "execute_result"
    }
   ],
   "source": [
    "sneakerdata.shape"
   ]
  },
  {
   "cell_type": "code",
   "execution_count": 4,
   "metadata": {},
   "outputs": [
    {
     "data": {
      "text/html": [
       "<div>\n",
       "<style scoped>\n",
       "    .dataframe tbody tr th:only-of-type {\n",
       "        vertical-align: middle;\n",
       "    }\n",
       "\n",
       "    .dataframe tbody tr th {\n",
       "        vertical-align: top;\n",
       "    }\n",
       "\n",
       "    .dataframe thead th {\n",
       "        text-align: right;\n",
       "    }\n",
       "</style>\n",
       "<table border=\"1\" class=\"dataframe\">\n",
       "  <thead>\n",
       "    <tr style=\"text-align: right;\">\n",
       "      <th></th>\n",
       "      <th>Order Date</th>\n",
       "      <th>Brand</th>\n",
       "      <th>Sneaker Name</th>\n",
       "      <th>Sale Price</th>\n",
       "      <th>Retail Price</th>\n",
       "      <th>Release Date</th>\n",
       "      <th>Shoe Size</th>\n",
       "      <th>Buyer Region</th>\n",
       "    </tr>\n",
       "  </thead>\n",
       "  <tbody>\n",
       "    <tr>\n",
       "      <th>0</th>\n",
       "      <td>2017-09-01</td>\n",
       "      <td>Yeezy</td>\n",
       "      <td>Adidas-Yeezy-Boost-350-Low-V2-Beluga</td>\n",
       "      <td>1097.0</td>\n",
       "      <td>220</td>\n",
       "      <td>2016-09-24</td>\n",
       "      <td>11.0</td>\n",
       "      <td>California</td>\n",
       "    </tr>\n",
       "    <tr>\n",
       "      <th>1</th>\n",
       "      <td>2017-09-01</td>\n",
       "      <td>Yeezy</td>\n",
       "      <td>Adidas-Yeezy-Boost-350-V2-Core-Black-Copper</td>\n",
       "      <td>685.0</td>\n",
       "      <td>220</td>\n",
       "      <td>2016-11-23</td>\n",
       "      <td>11.0</td>\n",
       "      <td>California</td>\n",
       "    </tr>\n",
       "    <tr>\n",
       "      <th>2</th>\n",
       "      <td>2017-09-01</td>\n",
       "      <td>Yeezy</td>\n",
       "      <td>Adidas-Yeezy-Boost-350-V2-Core-Black-Green</td>\n",
       "      <td>690.0</td>\n",
       "      <td>220</td>\n",
       "      <td>2016-11-23</td>\n",
       "      <td>11.0</td>\n",
       "      <td>California</td>\n",
       "    </tr>\n",
       "    <tr>\n",
       "      <th>3</th>\n",
       "      <td>2017-09-01</td>\n",
       "      <td>Yeezy</td>\n",
       "      <td>Adidas-Yeezy-Boost-350-V2-Core-Black-Red</td>\n",
       "      <td>1075.0</td>\n",
       "      <td>220</td>\n",
       "      <td>2016-11-23</td>\n",
       "      <td>11.5</td>\n",
       "      <td>Kentucky</td>\n",
       "    </tr>\n",
       "    <tr>\n",
       "      <th>4</th>\n",
       "      <td>2017-09-01</td>\n",
       "      <td>Yeezy</td>\n",
       "      <td>Adidas-Yeezy-Boost-350-V2-Core-Black-Red-2017</td>\n",
       "      <td>828.0</td>\n",
       "      <td>220</td>\n",
       "      <td>2017-02-11</td>\n",
       "      <td>11.0</td>\n",
       "      <td>Rhode Island</td>\n",
       "    </tr>\n",
       "  </tbody>\n",
       "</table>\n",
       "</div>"
      ],
      "text/plain": [
       "  Order Date   Brand                                   Sneaker Name  \\\n",
       "0 2017-09-01   Yeezy           Adidas-Yeezy-Boost-350-Low-V2-Beluga   \n",
       "1 2017-09-01   Yeezy    Adidas-Yeezy-Boost-350-V2-Core-Black-Copper   \n",
       "2 2017-09-01   Yeezy     Adidas-Yeezy-Boost-350-V2-Core-Black-Green   \n",
       "3 2017-09-01   Yeezy       Adidas-Yeezy-Boost-350-V2-Core-Black-Red   \n",
       "4 2017-09-01   Yeezy  Adidas-Yeezy-Boost-350-V2-Core-Black-Red-2017   \n",
       "\n",
       "   Sale Price  Retail Price Release Date  Shoe Size  Buyer Region  \n",
       "0      1097.0           220   2016-09-24       11.0    California  \n",
       "1       685.0           220   2016-11-23       11.0    California  \n",
       "2       690.0           220   2016-11-23       11.0    California  \n",
       "3      1075.0           220   2016-11-23       11.5      Kentucky  \n",
       "4       828.0           220   2017-02-11       11.0  Rhode Island  "
      ]
     },
     "execution_count": 4,
     "metadata": {},
     "output_type": "execute_result"
    }
   ],
   "source": [
    "sneakerdata.head()"
   ]
  },
  {
   "cell_type": "markdown",
   "metadata": {},
   "source": [
    "##### Data Cleaning"
   ]
  },
  {
   "cell_type": "markdown",
   "metadata": {},
   "source": [
    "Let's check for any missing data."
   ]
  },
  {
   "cell_type": "code",
   "execution_count": 5,
   "metadata": {
    "scrolled": false
   },
   "outputs": [
    {
     "data": {
      "text/plain": [
       "Order Date      0\n",
       "Brand           0\n",
       "Sneaker Name    0\n",
       "Sale Price      0\n",
       "Retail Price    0\n",
       "Release Date    0\n",
       "Shoe Size       0\n",
       "Buyer Region    0\n",
       "dtype: int64"
      ]
     },
     "execution_count": 5,
     "metadata": {},
     "output_type": "execute_result"
    }
   ],
   "source": [
    "sneakerdata.isnull().sum()"
   ]
  },
  {
   "cell_type": "markdown",
   "metadata": {},
   "source": [
    "There are no missing data. Let's now check if the data types of the columns are consistent with the values in the columns."
   ]
  },
  {
   "cell_type": "code",
   "execution_count": 6,
   "metadata": {},
   "outputs": [
    {
     "data": {
      "text/plain": [
       "Order Date      datetime64[ns]\n",
       "Brand                   object\n",
       "Sneaker Name            object\n",
       "Sale Price             float64\n",
       "Retail Price             int64\n",
       "Release Date    datetime64[ns]\n",
       "Shoe Size              float64\n",
       "Buyer Region            object\n",
       "dtype: object"
      ]
     },
     "execution_count": 6,
     "metadata": {},
     "output_type": "execute_result"
    }
   ],
   "source": [
    "sneakerdata.dtypes"
   ]
  },
  {
   "cell_type": "markdown",
   "metadata": {},
   "source": [
    "The data is consistent with the type of values.\n",
    "\n",
    "The data seems to be about shoe sales, but there is no profit column. Profit is the difference between the sale price and the retail price. Let's add a profit column to our data frame."
   ]
  },
  {
   "cell_type": "code",
   "execution_count": 7,
   "metadata": {},
   "outputs": [],
   "source": [
    "sneakerdata['Profit'] = sneakerdata['Sale Price'] - sneakerdata['Retail Price']"
   ]
  },
  {
   "cell_type": "code",
   "execution_count": 8,
   "metadata": {
    "scrolled": true
   },
   "outputs": [
    {
     "data": {
      "text/html": [
       "<div>\n",
       "<style scoped>\n",
       "    .dataframe tbody tr th:only-of-type {\n",
       "        vertical-align: middle;\n",
       "    }\n",
       "\n",
       "    .dataframe tbody tr th {\n",
       "        vertical-align: top;\n",
       "    }\n",
       "\n",
       "    .dataframe thead th {\n",
       "        text-align: right;\n",
       "    }\n",
       "</style>\n",
       "<table border=\"1\" class=\"dataframe\">\n",
       "  <thead>\n",
       "    <tr style=\"text-align: right;\">\n",
       "      <th></th>\n",
       "      <th>Order Date</th>\n",
       "      <th>Brand</th>\n",
       "      <th>Sneaker Name</th>\n",
       "      <th>Sale Price</th>\n",
       "      <th>Retail Price</th>\n",
       "      <th>Release Date</th>\n",
       "      <th>Shoe Size</th>\n",
       "      <th>Buyer Region</th>\n",
       "      <th>Profit</th>\n",
       "    </tr>\n",
       "  </thead>\n",
       "  <tbody>\n",
       "    <tr>\n",
       "      <th>0</th>\n",
       "      <td>2017-09-01</td>\n",
       "      <td>Yeezy</td>\n",
       "      <td>Adidas-Yeezy-Boost-350-Low-V2-Beluga</td>\n",
       "      <td>1097.0</td>\n",
       "      <td>220</td>\n",
       "      <td>2016-09-24</td>\n",
       "      <td>11.0</td>\n",
       "      <td>California</td>\n",
       "      <td>877.0</td>\n",
       "    </tr>\n",
       "    <tr>\n",
       "      <th>1</th>\n",
       "      <td>2017-09-01</td>\n",
       "      <td>Yeezy</td>\n",
       "      <td>Adidas-Yeezy-Boost-350-V2-Core-Black-Copper</td>\n",
       "      <td>685.0</td>\n",
       "      <td>220</td>\n",
       "      <td>2016-11-23</td>\n",
       "      <td>11.0</td>\n",
       "      <td>California</td>\n",
       "      <td>465.0</td>\n",
       "    </tr>\n",
       "    <tr>\n",
       "      <th>2</th>\n",
       "      <td>2017-09-01</td>\n",
       "      <td>Yeezy</td>\n",
       "      <td>Adidas-Yeezy-Boost-350-V2-Core-Black-Green</td>\n",
       "      <td>690.0</td>\n",
       "      <td>220</td>\n",
       "      <td>2016-11-23</td>\n",
       "      <td>11.0</td>\n",
       "      <td>California</td>\n",
       "      <td>470.0</td>\n",
       "    </tr>\n",
       "    <tr>\n",
       "      <th>3</th>\n",
       "      <td>2017-09-01</td>\n",
       "      <td>Yeezy</td>\n",
       "      <td>Adidas-Yeezy-Boost-350-V2-Core-Black-Red</td>\n",
       "      <td>1075.0</td>\n",
       "      <td>220</td>\n",
       "      <td>2016-11-23</td>\n",
       "      <td>11.5</td>\n",
       "      <td>Kentucky</td>\n",
       "      <td>855.0</td>\n",
       "    </tr>\n",
       "    <tr>\n",
       "      <th>4</th>\n",
       "      <td>2017-09-01</td>\n",
       "      <td>Yeezy</td>\n",
       "      <td>Adidas-Yeezy-Boost-350-V2-Core-Black-Red-2017</td>\n",
       "      <td>828.0</td>\n",
       "      <td>220</td>\n",
       "      <td>2017-02-11</td>\n",
       "      <td>11.0</td>\n",
       "      <td>Rhode Island</td>\n",
       "      <td>608.0</td>\n",
       "    </tr>\n",
       "  </tbody>\n",
       "</table>\n",
       "</div>"
      ],
      "text/plain": [
       "  Order Date   Brand                                   Sneaker Name  \\\n",
       "0 2017-09-01   Yeezy           Adidas-Yeezy-Boost-350-Low-V2-Beluga   \n",
       "1 2017-09-01   Yeezy    Adidas-Yeezy-Boost-350-V2-Core-Black-Copper   \n",
       "2 2017-09-01   Yeezy     Adidas-Yeezy-Boost-350-V2-Core-Black-Green   \n",
       "3 2017-09-01   Yeezy       Adidas-Yeezy-Boost-350-V2-Core-Black-Red   \n",
       "4 2017-09-01   Yeezy  Adidas-Yeezy-Boost-350-V2-Core-Black-Red-2017   \n",
       "\n",
       "   Sale Price  Retail Price Release Date  Shoe Size  Buyer Region  Profit  \n",
       "0      1097.0           220   2016-09-24       11.0    California   877.0  \n",
       "1       685.0           220   2016-11-23       11.0    California   465.0  \n",
       "2       690.0           220   2016-11-23       11.0    California   470.0  \n",
       "3      1075.0           220   2016-11-23       11.5      Kentucky   855.0  \n",
       "4       828.0           220   2017-02-11       11.0  Rhode Island   608.0  "
      ]
     },
     "execution_count": 8,
     "metadata": {},
     "output_type": "execute_result"
    }
   ],
   "source": [
    "sneakerdata.head()"
   ]
  },
  {
   "cell_type": "markdown",
   "metadata": {},
   "source": [
    "Let's re-order the columns for aesthetics so that 'Profit' is next to 'Sale Price' and 'Retail Price'"
   ]
  },
  {
   "cell_type": "code",
   "execution_count": 9,
   "metadata": {},
   "outputs": [
    {
     "data": {
      "text/html": [
       "<div>\n",
       "<style scoped>\n",
       "    .dataframe tbody tr th:only-of-type {\n",
       "        vertical-align: middle;\n",
       "    }\n",
       "\n",
       "    .dataframe tbody tr th {\n",
       "        vertical-align: top;\n",
       "    }\n",
       "\n",
       "    .dataframe thead th {\n",
       "        text-align: right;\n",
       "    }\n",
       "</style>\n",
       "<table border=\"1\" class=\"dataframe\">\n",
       "  <thead>\n",
       "    <tr style=\"text-align: right;\">\n",
       "      <th></th>\n",
       "      <th>Order Date</th>\n",
       "      <th>Brand</th>\n",
       "      <th>Sneaker Name</th>\n",
       "      <th>Sale Price</th>\n",
       "      <th>Retail Price</th>\n",
       "      <th>Profit</th>\n",
       "      <th>Release Date</th>\n",
       "      <th>Shoe Size</th>\n",
       "      <th>Buyer Region</th>\n",
       "    </tr>\n",
       "  </thead>\n",
       "  <tbody>\n",
       "    <tr>\n",
       "      <th>0</th>\n",
       "      <td>2017-09-01</td>\n",
       "      <td>Yeezy</td>\n",
       "      <td>Adidas-Yeezy-Boost-350-Low-V2-Beluga</td>\n",
       "      <td>1097.0</td>\n",
       "      <td>220</td>\n",
       "      <td>877.0</td>\n",
       "      <td>2016-09-24</td>\n",
       "      <td>11.0</td>\n",
       "      <td>California</td>\n",
       "    </tr>\n",
       "    <tr>\n",
       "      <th>1</th>\n",
       "      <td>2017-09-01</td>\n",
       "      <td>Yeezy</td>\n",
       "      <td>Adidas-Yeezy-Boost-350-V2-Core-Black-Copper</td>\n",
       "      <td>685.0</td>\n",
       "      <td>220</td>\n",
       "      <td>465.0</td>\n",
       "      <td>2016-11-23</td>\n",
       "      <td>11.0</td>\n",
       "      <td>California</td>\n",
       "    </tr>\n",
       "    <tr>\n",
       "      <th>2</th>\n",
       "      <td>2017-09-01</td>\n",
       "      <td>Yeezy</td>\n",
       "      <td>Adidas-Yeezy-Boost-350-V2-Core-Black-Green</td>\n",
       "      <td>690.0</td>\n",
       "      <td>220</td>\n",
       "      <td>470.0</td>\n",
       "      <td>2016-11-23</td>\n",
       "      <td>11.0</td>\n",
       "      <td>California</td>\n",
       "    </tr>\n",
       "    <tr>\n",
       "      <th>3</th>\n",
       "      <td>2017-09-01</td>\n",
       "      <td>Yeezy</td>\n",
       "      <td>Adidas-Yeezy-Boost-350-V2-Core-Black-Red</td>\n",
       "      <td>1075.0</td>\n",
       "      <td>220</td>\n",
       "      <td>855.0</td>\n",
       "      <td>2016-11-23</td>\n",
       "      <td>11.5</td>\n",
       "      <td>Kentucky</td>\n",
       "    </tr>\n",
       "    <tr>\n",
       "      <th>4</th>\n",
       "      <td>2017-09-01</td>\n",
       "      <td>Yeezy</td>\n",
       "      <td>Adidas-Yeezy-Boost-350-V2-Core-Black-Red-2017</td>\n",
       "      <td>828.0</td>\n",
       "      <td>220</td>\n",
       "      <td>608.0</td>\n",
       "      <td>2017-02-11</td>\n",
       "      <td>11.0</td>\n",
       "      <td>Rhode Island</td>\n",
       "    </tr>\n",
       "  </tbody>\n",
       "</table>\n",
       "</div>"
      ],
      "text/plain": [
       "  Order Date   Brand                                   Sneaker Name  \\\n",
       "0 2017-09-01   Yeezy           Adidas-Yeezy-Boost-350-Low-V2-Beluga   \n",
       "1 2017-09-01   Yeezy    Adidas-Yeezy-Boost-350-V2-Core-Black-Copper   \n",
       "2 2017-09-01   Yeezy     Adidas-Yeezy-Boost-350-V2-Core-Black-Green   \n",
       "3 2017-09-01   Yeezy       Adidas-Yeezy-Boost-350-V2-Core-Black-Red   \n",
       "4 2017-09-01   Yeezy  Adidas-Yeezy-Boost-350-V2-Core-Black-Red-2017   \n",
       "\n",
       "   Sale Price  Retail Price  Profit Release Date  Shoe Size  Buyer Region  \n",
       "0      1097.0           220   877.0   2016-09-24       11.0    California  \n",
       "1       685.0           220   465.0   2016-11-23       11.0    California  \n",
       "2       690.0           220   470.0   2016-11-23       11.0    California  \n",
       "3      1075.0           220   855.0   2016-11-23       11.5      Kentucky  \n",
       "4       828.0           220   608.0   2017-02-11       11.0  Rhode Island  "
      ]
     },
     "execution_count": 9,
     "metadata": {},
     "output_type": "execute_result"
    }
   ],
   "source": [
    "sneakerdata = sneakerdata[['Order Date', 'Brand', 'Sneaker Name', 'Sale Price', 'Retail Price','Profit','Release Date','Shoe Size','Buyer Region']]\n",
    "sneakerdata.head()"
   ]
  },
  {
   "cell_type": "markdown",
   "metadata": {},
   "source": [
    "Let's take a look at the different shoe brands."
   ]
  },
  {
   "cell_type": "code",
   "execution_count": 10,
   "metadata": {},
   "outputs": [
    {
     "data": {
      "text/plain": [
       "array([' Yeezy', 'Off-White'], dtype=object)"
      ]
     },
     "execution_count": 10,
     "metadata": {},
     "output_type": "execute_result"
    }
   ],
   "source": [
    "sneakerdata['Brand'].unique()"
   ]
  },
  {
   "cell_type": "markdown",
   "metadata": {},
   "source": [
    "There seems to be an uncessary space before the word Yeezy in the data. Let us get rid of it using RegEx. Using this idea: https://stackoverflow.com/questions/25698710/replace-all-occurrences-of-a-string-in-a-pandas-dataframe-python  we will replace ' Yeezy' with 'Yeezy'"
   ]
  },
  {
   "cell_type": "code",
   "execution_count": 11,
   "metadata": {},
   "outputs": [
    {
     "data": {
      "text/plain": [
       "72162"
      ]
     },
     "execution_count": 11,
     "metadata": {},
     "output_type": "execute_result"
    }
   ],
   "source": [
    "sneakerdata[sneakerdata['Brand'] == \" Yeezy\"].shape[0] ##checking initial rows"
   ]
  },
  {
   "cell_type": "code",
   "execution_count": 12,
   "metadata": {},
   "outputs": [
    {
     "data": {
      "text/plain": [
       "27794"
      ]
     },
     "execution_count": 12,
     "metadata": {},
     "output_type": "execute_result"
    }
   ],
   "source": [
    "sneakerdata[sneakerdata['Brand'] == \"Off-White\"].shape[0] ##checking initial rows"
   ]
  },
  {
   "cell_type": "code",
   "execution_count": 13,
   "metadata": {
    "scrolled": true
   },
   "outputs": [],
   "source": [
    "sneakerdata['Brand'] = sneakerdata['Brand'].replace({' Yeezy': 'Yeezy'}, regex=True)"
   ]
  },
  {
   "cell_type": "code",
   "execution_count": 14,
   "metadata": {},
   "outputs": [
    {
     "data": {
      "text/plain": [
       "72162"
      ]
     },
     "execution_count": 14,
     "metadata": {},
     "output_type": "execute_result"
    }
   ],
   "source": [
    "sneakerdata[sneakerdata['Brand'] == \"Yeezy\"].shape[0] ##rows match, the regex worked"
   ]
  },
  {
   "cell_type": "code",
   "execution_count": 15,
   "metadata": {},
   "outputs": [
    {
     "data": {
      "text/plain": [
       "27794"
      ]
     },
     "execution_count": 15,
     "metadata": {},
     "output_type": "execute_result"
    }
   ],
   "source": [
    "sneakerdata[sneakerdata['Brand'] == \"Off-White\"].shape[0] ##rows match, the regex worked"
   ]
  },
  {
   "cell_type": "code",
   "execution_count": 24,
   "metadata": {},
   "outputs": [
    {
     "data": {
      "text/plain": [
       "array(['California', 'Kentucky', 'Rhode Island', 'Michigan', 'New York',\n",
       "       'Kansas', 'Florida', 'New Jersey', 'Texas', 'North Carolina',\n",
       "       'Oregon', 'Alabama', 'Delaware', 'Virginia', 'Wisconsin',\n",
       "       'Colorado', 'Massachusetts', 'Pennsylvania', 'Louisiana',\n",
       "       'Washington', 'Georgia', 'Ohio', 'Nebraska', 'Oklahoma',\n",
       "       'Connecticut', 'Missouri', 'South Carolina', 'Maine', 'Illinois',\n",
       "       'Nevada', 'Maryland', 'Arizona', 'Minnesota', 'Iowa', 'Tennessee',\n",
       "       'West Virginia', 'Indiana', 'Arkansas', 'Alaska', 'Wyoming',\n",
       "       'Utah', 'New Hampshire', 'Vermont', 'District of Columbia',\n",
       "       'Hawaii', 'New Mexico', 'South Dakota', 'Mississippi',\n",
       "       'North Dakota', 'Idaho', 'Montana'], dtype=object)"
      ]
     },
     "execution_count": 24,
     "metadata": {},
     "output_type": "execute_result"
    }
   ],
   "source": [
    "sneakerdata['Buyer Region'].unique()"
   ]
  },
  {
   "cell_type": "markdown",
   "metadata": {},
   "source": [
    "##### Data Exploration"
   ]
  },
  {
   "cell_type": "markdown",
   "metadata": {},
   "source": [
    "In my data exploration, I will try to answer some thought-provoking questions about the dataset that I will come up with myself in order to find some interesting results."
   ]
  },
  {
   "cell_type": "markdown",
   "metadata": {},
   "source": [
    "#### 1. Which shoe size generated the most average profit? For Yeezy's? For Off-whites? What about the least average profit?"
   ]
  },
  {
   "cell_type": "markdown",
   "metadata": {},
   "source": [
    "First, let us see the unique shoe sizes for yeezy's and off-whites, respectively."
   ]
  },
  {
   "cell_type": "code",
   "execution_count": 16,
   "metadata": {
    "scrolled": false
   },
   "outputs": [],
   "source": [
    "yeezy = sneakerdata[sneakerdata['Brand'] == \"Yeezy\"]"
   ]
  },
  {
   "cell_type": "code",
   "execution_count": 17,
   "metadata": {},
   "outputs": [],
   "source": [
    "offwhite = sneakerdata[sneakerdata['Brand'] == \"Off-White\"]"
   ]
  },
  {
   "cell_type": "code",
   "execution_count": 27,
   "metadata": {},
   "outputs": [
    {
     "data": {
      "text/plain": [
       "Shoe Size\n",
       "17.0    615.333333\n",
       "16.0    482.066667\n",
       "14.5    230.440476\n",
       "13.5    172.523810\n",
       "12.5    168.353464\n",
       "14.0    156.344124\n",
       "11.0    152.163142\n",
       "13.0    151.477338\n",
       "9.5     144.985291\n",
       "10.0    143.860640\n",
       "10.5    143.796080\n",
       "6.5     143.208804\n",
       "11.5    142.121689\n",
       "12.0    141.474104\n",
       "8.5     141.041237\n",
       "6.0     140.270868\n",
       "8.0     138.008518\n",
       "9.0     132.979267\n",
       "3.5     129.000000\n",
       "5.5     127.116979\n",
       "7.5     126.265436\n",
       "7.0     125.619676\n",
       "5.0     123.892903\n",
       "4.5     114.205781\n",
       "4.0     107.985032\n",
       "Name: Profit, dtype: float64"
      ]
     },
     "execution_count": 27,
     "metadata": {},
     "output_type": "execute_result"
    }
   ],
   "source": [
    "yeezy.groupby(['Shoe Size']).mean()['Profit'].reset_index().sort_values('Profit', ascending = False).set_index('Shoe Size')['Profit']"
   ]
  },
  {
   "cell_type": "code",
   "execution_count": 28,
   "metadata": {},
   "outputs": [
    {
     "data": {
      "text/plain": [
       "Shoe Size\n",
       "17.0    2060.000000\n",
       "16.0    1490.250000\n",
       "14.0     551.646847\n",
       "12.5     536.092308\n",
       "9.0      535.184513\n",
       "10.0     530.122029\n",
       "8.0      525.135565\n",
       "9.5      511.911618\n",
       "11.0     504.027723\n",
       "8.5      492.487328\n",
       "12.0     491.154280\n",
       "15.0     490.515385\n",
       "7.5      489.797904\n",
       "13.0     472.214069\n",
       "10.5     462.443742\n",
       "11.5     458.529817\n",
       "7.0      444.071095\n",
       "5.0      438.117647\n",
       "6.0      428.859061\n",
       "4.5      416.850825\n",
       "4.0      407.490314\n",
       "6.5      405.141375\n",
       "5.5      403.327526\n",
       "3.5      305.333333\n",
       "Name: Profit, dtype: float64"
      ]
     },
     "execution_count": 28,
     "metadata": {},
     "output_type": "execute_result"
    }
   ],
   "source": [
    "offwhite.groupby(['Shoe Size']).mean()['Profit'].reset_index().sort_values('Profit', ascending = False).set_index('Shoe Size')['Profit']"
   ]
  },
  {
   "cell_type": "markdown",
   "metadata": {},
   "source": [
    "From these results based on the average profit for each size, larger sizes tend to have more profit than smaller sizes. This is actually contradictory to what real life profit entails. In real life, smaller sizes in general do better because they are made in less amounts than bigger sizes. Perhaps since this is a small subset of the data overall, we see that bigger sizes do better in profit."
   ]
  },
  {
   "cell_type": "markdown",
   "metadata": {},
   "source": [
    "#### 2. Which region tends to buy more Yeezy's? More Off-whites?"
   ]
  },
  {
   "cell_type": "code",
   "execution_count": 20,
   "metadata": {
    "scrolled": true
   },
   "outputs": [
    {
     "data": {
      "text/plain": [
       "Buyer Region\n",
       "California       13113\n",
       "New York         12103\n",
       "Oregon            5396\n",
       "Florida           4484\n",
       "Texas             4455\n",
       "New Jersey        3371\n",
       "Illinois          2732\n",
       "Pennsylvania      2396\n",
       "Michigan          2209\n",
       "Massachusetts     2189\n",
       "Name: Order Date, dtype: int64"
      ]
     },
     "execution_count": 20,
     "metadata": {},
     "output_type": "execute_result"
    }
   ],
   "source": [
    "yeezy.groupby(['Buyer Region']).count().reset_index().sort_values('Order Date', ascending = False).set_index('Buyer Region')['Order Date'][0:10]"
   ]
  },
  {
   "cell_type": "code",
   "execution_count": 21,
   "metadata": {},
   "outputs": [
    {
     "data": {
      "text/plain": [
       "Buyer Region\n",
       "California       6236\n",
       "New York         4422\n",
       "Oregon           2285\n",
       "Florida          1892\n",
       "Texas            1421\n",
       "New Jersey       1349\n",
       "Illinois         1050\n",
       "Massachusetts     714\n",
       "Pennsylvania      713\n",
       "Virginia          605\n",
       "Name: Order Date, dtype: int64"
      ]
     },
     "execution_count": 21,
     "metadata": {},
     "output_type": "execute_result"
    }
   ],
   "source": [
    "offwhite.groupby(['Buyer Region']).count().reset_index().sort_values('Order Date', ascending = False).set_index('Buyer Region')['Order Date'][0:10]"
   ]
  },
  {
   "cell_type": "markdown",
   "metadata": {},
   "source": [
    "Based on these results, it seems that the top 10 regions that tend to buy one brand tend to buy the other, with California being at the top."
   ]
  },
  {
   "cell_type": "markdown",
   "metadata": {},
   "source": [
    "#### 3. Which yeezy has the most profit on average? Least Profit?  Which Off-white has the most profit on average? Least Profit?"
   ]
  },
  {
   "cell_type": "code",
   "execution_count": 34,
   "metadata": {},
   "outputs": [
    {
     "data": {
      "text/html": [
       "<div>\n",
       "<style scoped>\n",
       "    .dataframe tbody tr th:only-of-type {\n",
       "        vertical-align: middle;\n",
       "    }\n",
       "\n",
       "    .dataframe tbody tr th {\n",
       "        vertical-align: top;\n",
       "    }\n",
       "\n",
       "    .dataframe thead th {\n",
       "        text-align: right;\n",
       "    }\n",
       "</style>\n",
       "<table border=\"1\" class=\"dataframe\">\n",
       "  <thead>\n",
       "    <tr style=\"text-align: right;\">\n",
       "      <th></th>\n",
       "      <th>Profit</th>\n",
       "    </tr>\n",
       "    <tr>\n",
       "      <th>Sneaker Name</th>\n",
       "      <th></th>\n",
       "    </tr>\n",
       "  </thead>\n",
       "  <tbody>\n",
       "    <tr>\n",
       "      <th>Adidas-Yeezy-Boost-350-Low-Turtledove</th>\n",
       "      <td>1331.661765</td>\n",
       "    </tr>\n",
       "    <tr>\n",
       "      <th>Adidas-Yeezy-Boost-350-Low-Oxford-Tan</th>\n",
       "      <td>811.514286</td>\n",
       "    </tr>\n",
       "    <tr>\n",
       "      <th>Adidas-Yeezy-Boost-350-Low-Moonrock</th>\n",
       "      <td>796.710000</td>\n",
       "    </tr>\n",
       "    <tr>\n",
       "      <th>Adidas-Yeezy-Boost-350-Low-Pirate-Black-2016</th>\n",
       "      <td>784.237705</td>\n",
       "    </tr>\n",
       "    <tr>\n",
       "      <th>Adidas-Yeezy-Boost-350-V2-Core-Black-Red</th>\n",
       "      <td>717.754967</td>\n",
       "    </tr>\n",
       "    <tr>\n",
       "      <th>Adidas-Yeezy-Boost-350-Low-Pirate-Black-2015</th>\n",
       "      <td>695.094737</td>\n",
       "    </tr>\n",
       "    <tr>\n",
       "      <th>Adidas-Yeezy-Boost-350-V2-Core-Black-Red-2017</th>\n",
       "      <td>584.304438</td>\n",
       "    </tr>\n",
       "    <tr>\n",
       "      <th>Adidas-Yeezy-Boost-350-Low-V2-Beluga</th>\n",
       "      <td>568.704819</td>\n",
       "    </tr>\n",
       "    <tr>\n",
       "      <th>Adidas-Yeezy-Boost-350-V2-Core-Black-White</th>\n",
       "      <td>498.412238</td>\n",
       "    </tr>\n",
       "    <tr>\n",
       "      <th>Adidas-Yeezy-Boost-350-V2-Core-Black-Copper</th>\n",
       "      <td>436.631111</td>\n",
       "    </tr>\n",
       "    <tr>\n",
       "      <th>Adidas-Yeezy-Boost-350-V2-Core-Black-Green</th>\n",
       "      <td>402.801020</td>\n",
       "    </tr>\n",
       "    <tr>\n",
       "      <th>adidas-Yeezy-Boost-350-V2-Static-Reflective</th>\n",
       "      <td>248.145628</td>\n",
       "    </tr>\n",
       "    <tr>\n",
       "      <th>Adidas-Yeezy-Boost-350-V2-Beluga-2pt0</th>\n",
       "      <td>180.439666</td>\n",
       "    </tr>\n",
       "    <tr>\n",
       "      <th>Adidas-Yeezy-Boost-350-V2-Semi-Frozen-Yellow</th>\n",
       "      <td>170.586994</td>\n",
       "    </tr>\n",
       "    <tr>\n",
       "      <th>Adidas-Yeezy-Boost-350-V2-Blue-Tint</th>\n",
       "      <td>158.986125</td>\n",
       "    </tr>\n",
       "    <tr>\n",
       "      <th>Adidas-Yeezy-Boost-350-V2-Zebra</th>\n",
       "      <td>141.272369</td>\n",
       "    </tr>\n",
       "    <tr>\n",
       "      <th>Adidas-Yeezy-Boost-350-V2-Cream-White</th>\n",
       "      <td>68.708951</td>\n",
       "    </tr>\n",
       "    <tr>\n",
       "      <th>adidas-Yeezy-Boost-350-V2-Static</th>\n",
       "      <td>67.066517</td>\n",
       "    </tr>\n",
       "    <tr>\n",
       "      <th>adidas-Yeezy-Boost-350-V2-Butter</th>\n",
       "      <td>49.760593</td>\n",
       "    </tr>\n",
       "    <tr>\n",
       "      <th>Adidas-Yeezy-Boost-350-V2-Sesame</th>\n",
       "      <td>44.068849</td>\n",
       "    </tr>\n",
       "  </tbody>\n",
       "</table>\n",
       "</div>"
      ],
      "text/plain": [
       "                                                    Profit\n",
       "Sneaker Name                                              \n",
       "Adidas-Yeezy-Boost-350-Low-Turtledove          1331.661765\n",
       "Adidas-Yeezy-Boost-350-Low-Oxford-Tan           811.514286\n",
       "Adidas-Yeezy-Boost-350-Low-Moonrock             796.710000\n",
       "Adidas-Yeezy-Boost-350-Low-Pirate-Black-2016    784.237705\n",
       "Adidas-Yeezy-Boost-350-V2-Core-Black-Red        717.754967\n",
       "Adidas-Yeezy-Boost-350-Low-Pirate-Black-2015    695.094737\n",
       "Adidas-Yeezy-Boost-350-V2-Core-Black-Red-2017   584.304438\n",
       "Adidas-Yeezy-Boost-350-Low-V2-Beluga            568.704819\n",
       "Adidas-Yeezy-Boost-350-V2-Core-Black-White      498.412238\n",
       "Adidas-Yeezy-Boost-350-V2-Core-Black-Copper     436.631111\n",
       "Adidas-Yeezy-Boost-350-V2-Core-Black-Green      402.801020\n",
       "adidas-Yeezy-Boost-350-V2-Static-Reflective     248.145628\n",
       "Adidas-Yeezy-Boost-350-V2-Beluga-2pt0           180.439666\n",
       "Adidas-Yeezy-Boost-350-V2-Semi-Frozen-Yellow    170.586994\n",
       "Adidas-Yeezy-Boost-350-V2-Blue-Tint             158.986125\n",
       "Adidas-Yeezy-Boost-350-V2-Zebra                 141.272369\n",
       "Adidas-Yeezy-Boost-350-V2-Cream-White            68.708951\n",
       "adidas-Yeezy-Boost-350-V2-Static                 67.066517\n",
       "adidas-Yeezy-Boost-350-V2-Butter                 49.760593\n",
       "Adidas-Yeezy-Boost-350-V2-Sesame                 44.068849"
      ]
     },
     "execution_count": 34,
     "metadata": {},
     "output_type": "execute_result"
    }
   ],
   "source": [
    "yeezy.groupby(['Sneaker Name']).mean()['Profit'].reset_index().sort_values('Profit', ascending = False).set_index('Sneaker Name')"
   ]
  },
  {
   "cell_type": "markdown",
   "metadata": {},
   "source": [
    "The Yeezy with the most average profit is the 350 low turtledove while the lowest is the 350 v2 sesame."
   ]
  },
  {
   "cell_type": "code",
   "execution_count": 35,
   "metadata": {
    "scrolled": true
   },
   "outputs": [
    {
     "data": {
      "text/html": [
       "<div>\n",
       "<style scoped>\n",
       "    .dataframe tbody tr th:only-of-type {\n",
       "        vertical-align: middle;\n",
       "    }\n",
       "\n",
       "    .dataframe tbody tr th {\n",
       "        vertical-align: top;\n",
       "    }\n",
       "\n",
       "    .dataframe thead th {\n",
       "        text-align: right;\n",
       "    }\n",
       "</style>\n",
       "<table border=\"1\" class=\"dataframe\">\n",
       "  <thead>\n",
       "    <tr style=\"text-align: right;\">\n",
       "      <th></th>\n",
       "      <th>Profit</th>\n",
       "    </tr>\n",
       "    <tr>\n",
       "      <th>Sneaker Name</th>\n",
       "      <th></th>\n",
       "    </tr>\n",
       "  </thead>\n",
       "  <tbody>\n",
       "    <tr>\n",
       "      <th>Air-Jordan-1-Retro-High-Off-White-White</th>\n",
       "      <td>1636.068894</td>\n",
       "    </tr>\n",
       "    <tr>\n",
       "      <th>Air-Jordan-1-Retro-High-Off-White-Chicago</th>\n",
       "      <td>1579.800000</td>\n",
       "    </tr>\n",
       "    <tr>\n",
       "      <th>Nike-Air-Presto-Off-White</th>\n",
       "      <td>1076.055369</td>\n",
       "    </tr>\n",
       "    <tr>\n",
       "      <th>Nike-Air-Force-1-Low-Virgil-Abloh-Off-White-AF100</th>\n",
       "      <td>825.516129</td>\n",
       "    </tr>\n",
       "    <tr>\n",
       "      <th>Nike-Air-Max-97-Off-White-Elemental-Rose-Queen</th>\n",
       "      <td>703.782407</td>\n",
       "    </tr>\n",
       "    <tr>\n",
       "      <th>Air-Jordan-1-Retro-High-Off-White-University-Blue</th>\n",
       "      <td>660.853503</td>\n",
       "    </tr>\n",
       "    <tr>\n",
       "      <th>Nike-Blazer-Mid-Off-White-Wolf-Grey</th>\n",
       "      <td>654.822917</td>\n",
       "    </tr>\n",
       "    <tr>\n",
       "      <th>Nike-Air-VaporMax-Off-White</th>\n",
       "      <td>606.676190</td>\n",
       "    </tr>\n",
       "    <tr>\n",
       "      <th>Nike-Air-Presto-Off-White-Black-2018</th>\n",
       "      <td>570.469307</td>\n",
       "    </tr>\n",
       "    <tr>\n",
       "      <th>Nike-Blazer-Mid-Off-White</th>\n",
       "      <td>565.475050</td>\n",
       "    </tr>\n",
       "    <tr>\n",
       "      <th>Nike-Air-Max-97-Off-White-Menta</th>\n",
       "      <td>562.672901</td>\n",
       "    </tr>\n",
       "    <tr>\n",
       "      <th>Nike-Air-Max-90-Off-White</th>\n",
       "      <td>549.923445</td>\n",
       "    </tr>\n",
       "    <tr>\n",
       "      <th>Nike-Air-Force-1-Low-Off-White</th>\n",
       "      <td>547.462185</td>\n",
       "    </tr>\n",
       "    <tr>\n",
       "      <th>Nike-Air-Max-97-Off-White-Black</th>\n",
       "      <td>482.100346</td>\n",
       "    </tr>\n",
       "    <tr>\n",
       "      <th>Nike-Blazer-Mid-Off-White-All-Hallows-Eve</th>\n",
       "      <td>476.180019</td>\n",
       "    </tr>\n",
       "    <tr>\n",
       "      <th>Nike-Air-Presto-Off-White-White-2018</th>\n",
       "      <td>474.391674</td>\n",
       "    </tr>\n",
       "    <tr>\n",
       "      <th>Nike-Air-Max-97-Off-White</th>\n",
       "      <td>474.290441</td>\n",
       "    </tr>\n",
       "    <tr>\n",
       "      <th>Nike-Blazer-Mid-Off-White-Grim-Reaper</th>\n",
       "      <td>398.822368</td>\n",
       "    </tr>\n",
       "    <tr>\n",
       "      <th>Nike-Air-Max-90-Off-White-Black</th>\n",
       "      <td>392.785469</td>\n",
       "    </tr>\n",
       "    <tr>\n",
       "      <th>Nike-Air-VaporMax-Off-White-Black</th>\n",
       "      <td>378.478062</td>\n",
       "    </tr>\n",
       "    <tr>\n",
       "      <th>Nike-Air-Max-90-Off-White-Desert-Ore</th>\n",
       "      <td>372.542680</td>\n",
       "    </tr>\n",
       "    <tr>\n",
       "      <th>Nike-Zoom-Fly-Off-White</th>\n",
       "      <td>364.816092</td>\n",
       "    </tr>\n",
       "    <tr>\n",
       "      <th>Nike-Air-Force-1-Low-Off-White-Black-White</th>\n",
       "      <td>342.126152</td>\n",
       "    </tr>\n",
       "    <tr>\n",
       "      <th>Nike-Air-VaporMax-Off-White-2018</th>\n",
       "      <td>342.024513</td>\n",
       "    </tr>\n",
       "    <tr>\n",
       "      <th>Nike-React-Hyperdunk-2017-Flyknit-Off-White</th>\n",
       "      <td>294.946281</td>\n",
       "    </tr>\n",
       "    <tr>\n",
       "      <th>Nike-Air-Force-1-Low-Off-White-Volt</th>\n",
       "      <td>221.236868</td>\n",
       "    </tr>\n",
       "    <tr>\n",
       "      <th>Nike-Zoom-Fly-Mercurial-Off-White-Black</th>\n",
       "      <td>154.133333</td>\n",
       "    </tr>\n",
       "    <tr>\n",
       "      <th>Nike-Zoom-Fly-Off-White-Black-Silver</th>\n",
       "      <td>146.691283</td>\n",
       "    </tr>\n",
       "    <tr>\n",
       "      <th>Nike-Zoom-Fly-Off-White-Pink</th>\n",
       "      <td>101.165512</td>\n",
       "    </tr>\n",
       "    <tr>\n",
       "      <th>Nike-Zoom-Fly-Mercurial-Off-White-Total-Orange</th>\n",
       "      <td>87.914634</td>\n",
       "    </tr>\n",
       "  </tbody>\n",
       "</table>\n",
       "</div>"
      ],
      "text/plain": [
       "                                                        Profit\n",
       "Sneaker Name                                                  \n",
       "Air-Jordan-1-Retro-High-Off-White-White            1636.068894\n",
       "Air-Jordan-1-Retro-High-Off-White-Chicago          1579.800000\n",
       "Nike-Air-Presto-Off-White                          1076.055369\n",
       "Nike-Air-Force-1-Low-Virgil-Abloh-Off-White-AF100   825.516129\n",
       "Nike-Air-Max-97-Off-White-Elemental-Rose-Queen      703.782407\n",
       "Air-Jordan-1-Retro-High-Off-White-University-Blue   660.853503\n",
       "Nike-Blazer-Mid-Off-White-Wolf-Grey                 654.822917\n",
       "Nike-Air-VaporMax-Off-White                         606.676190\n",
       "Nike-Air-Presto-Off-White-Black-2018                570.469307\n",
       "Nike-Blazer-Mid-Off-White                           565.475050\n",
       "Nike-Air-Max-97-Off-White-Menta                     562.672901\n",
       "Nike-Air-Max-90-Off-White                           549.923445\n",
       "Nike-Air-Force-1-Low-Off-White                      547.462185\n",
       "Nike-Air-Max-97-Off-White-Black                     482.100346\n",
       "Nike-Blazer-Mid-Off-White-All-Hallows-Eve           476.180019\n",
       "Nike-Air-Presto-Off-White-White-2018                474.391674\n",
       "Nike-Air-Max-97-Off-White                           474.290441\n",
       "Nike-Blazer-Mid-Off-White-Grim-Reaper               398.822368\n",
       "Nike-Air-Max-90-Off-White-Black                     392.785469\n",
       "Nike-Air-VaporMax-Off-White-Black                   378.478062\n",
       "Nike-Air-Max-90-Off-White-Desert-Ore                372.542680\n",
       "Nike-Zoom-Fly-Off-White                             364.816092\n",
       "Nike-Air-Force-1-Low-Off-White-Black-White          342.126152\n",
       "Nike-Air-VaporMax-Off-White-2018                    342.024513\n",
       "Nike-React-Hyperdunk-2017-Flyknit-Off-White         294.946281\n",
       "Nike-Air-Force-1-Low-Off-White-Volt                 221.236868\n",
       "Nike-Zoom-Fly-Mercurial-Off-White-Black             154.133333\n",
       "Nike-Zoom-Fly-Off-White-Black-Silver                146.691283\n",
       "Nike-Zoom-Fly-Off-White-Pink                        101.165512\n",
       "Nike-Zoom-Fly-Mercurial-Off-White-Total-Orange       87.914634"
      ]
     },
     "execution_count": 35,
     "metadata": {},
     "output_type": "execute_result"
    }
   ],
   "source": [
    "offwhite.groupby(['Sneaker Name']).mean()['Profit'].reset_index().sort_values('Profit', ascending = False).set_index('Sneaker Name')"
   ]
  },
  {
   "cell_type": "markdown",
   "metadata": {},
   "source": [
    "The Offwhite with the most average profit is the air jordan 1 retor high off white while the least average profit is the nike zoom fly mercurial off white total orange."
   ]
  },
  {
   "cell_type": "code",
   "execution_count": null,
   "metadata": {},
   "outputs": [],
   "source": []
  },
  {
   "cell_type": "markdown",
   "metadata": {},
   "source": [
    "Some ideas: Hypothesis test maybe for profit on the different type of brand?\n",
    "\n",
    "P.S. Add my datascienceportfoliio tab to my github website."
   ]
  },
  {
   "cell_type": "code",
   "execution_count": null,
   "metadata": {},
   "outputs": [],
   "source": []
  }
 ],
 "metadata": {
  "kernelspec": {
   "display_name": "Python 3",
   "language": "python",
   "name": "python3"
  },
  "language_info": {
   "codemirror_mode": {
    "name": "ipython",
    "version": 3
   },
   "file_extension": ".py",
   "mimetype": "text/x-python",
   "name": "python",
   "nbconvert_exporter": "python",
   "pygments_lexer": "ipython3",
   "version": "3.6.5"
  }
 },
 "nbformat": 4,
 "nbformat_minor": 2
}
